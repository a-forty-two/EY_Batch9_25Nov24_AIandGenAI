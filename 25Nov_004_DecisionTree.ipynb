{
  "nbformat": 4,
  "nbformat_minor": 0,
  "metadata": {
    "colab": {
      "name": "03 DecisionTree",
      "provenance": []
    },
    "kernelspec": {
      "name": "python3",
      "display_name": "Python 3"
    }
  },
  "cells": [
    {
      "cell_type": "code",
      "metadata": {
        "id": "fy44NKaVqQA2"
      },
      "source": [
        "import numpy as np\n",
        "import pandas as pd\n",
        "data = pd.read_csv('https://raw.githubusercontent.com/a-forty-two/EY_batch7_18Sep/refs/heads/main/data.csv', header=0)\n",
        "df = data.iloc[:, [1,2,5,6,9]]\n",
        "df.head()"
      ],
      "execution_count": null,
      "outputs": []
    },
    {
      "cell_type": "code",
      "metadata": {
        "id": "CVi2slg9qcEX"
      },
      "source": [
        "y = df.pop('diagnosis') # REMOVE the feature from df and put into y\n",
        "x = df\n",
        "# y = f(x) -> equation for DTree\n",
        "from sklearn.model_selection import train_test_split\n",
        "xtrain,xtest, ytrain, ytest = train_test_split(x, y, test_size=0.2, random_state=42)\n"
      ],
      "execution_count": null,
      "outputs": []
    },
    {
      "cell_type": "code",
      "metadata": {
        "id": "yDTD6DjtrIuI"
      },
      "source": [
        "# Decision Tree, Random Forest -> work on relative comparison -> NORMALIZING or NOT normalizing\n",
        "# may not cause any diff at all\n",
        "from sklearn.tree import DecisionTreeClassifier\n",
        "dtree = DecisionTreeClassifier(max_depth=5)\n",
        "dtree_light =  DecisionTreeClassifier(max_depth=3)\n",
        "dtree_deep =  DecisionTreeClassifier(max_depth=10)\n",
        "dtree.fit(xtrain, ytrain)\n",
        "dtree_light.fit(xtrain, ytrain)\n",
        "dtree_deep.fit(xtrain, ytrain)\n",
        "# WEIGHTS and BIASES, y = Weights * inputs + bias -> MACHINE LEARNING\n",
        "# Decision TREE doesn't help with calculating the above!\n",
        "# it helps finding thresholds within which features take decisions\n"
      ],
      "execution_count": null,
      "outputs": []
    },
    {
      "cell_type": "code",
      "metadata": {
        "id": "nAwI0Vfprehz"
      },
      "source": [
        "pred1 = dtree.predict(xtest)\n",
        "pred2 = dtree_light.predict(xtest)\n",
        "pred3 = dtree_deep.predict(xtest)\n",
        "from sklearn.metrics import accuracy_score\n",
        "# COMPARING the TREES to each other, not to the actual answer (ytest)\n",
        "score = accuracy_score(pred1, pred2)\n",
        "print(score)\n",
        "score = accuracy_score(pred1, pred3)\n",
        "print(score)\n",
        "score = accuracy_score(pred3, pred2)\n",
        "print(score)\n",
        "# ACCURACY_SCORE(a, b) = (len(any) - mismatches) / len(any)"
      ],
      "execution_count": null,
      "outputs": []
    },
    {
      "cell_type": "code",
      "metadata": {
        "id": "gldwSElpuNty"
      },
      "source": [
        "from sklearn.tree import plot_tree\n",
        "import matplotlib.pyplot as plt\n",
        "fig = plt.figure(figsize=(20,25))\n",
        "a = plot_tree(dtree_deep, feature_names=x.columns, fontsize=10, filled=True, class_names=['M','B'])\n",
        "plt.show()\n",
        "# GINI and ENTROPY"
      ],
      "execution_count": null,
      "outputs": []
    },
    {
      "cell_type": "code",
      "metadata": {
        "id": "Uv4-4lH1weLp"
      },
      "source": [],
      "execution_count": null,
      "outputs": []
    }
  ]
}
