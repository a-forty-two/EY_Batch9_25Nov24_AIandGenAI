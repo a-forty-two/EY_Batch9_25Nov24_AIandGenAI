{
  "nbformat": 4,
  "nbformat_minor": 0,
  "metadata": {
    "colab": {
      "provenance": []
    },
    "kernelspec": {
      "name": "python3",
      "display_name": "Python 3"
    },
    "language_info": {
      "name": "python"
    }
  },
  "cells": [
    {
      "cell_type": "markdown",
      "source": [
        "Let's begin by understanding the fundamental data structures"
      ],
      "metadata": {
        "id": "AOnA2VEfyzfE"
      }
    },
    {
      "cell_type": "code",
      "execution_count": 1,
      "metadata": {
        "id": "6w5tyim1xles"
      },
      "outputs": [],
      "source": [
        "mylist = [] # LIST ->.   [ ]\n",
        "myset = { } # SET -> { }\n",
        "tuple = ( ) # tuples -> ( )\n",
        "mydictionary = { } # dictionary -> { }"
      ]
    },
    {
      "cell_type": "code",
      "source": [
        "mylist = [] # LIST ->.   [ ] => ORDERED, INDEXED\n",
        "myset = { } # SET -> { } => UNORDERED, UNINDEXED\n",
        "tuple = ( ) # tuples -> ( ) => READONLY, ORDERED, INDEXED\n",
        "mydictionary = { } # dictionary -> { } => KEY VLAUE PAIRS => UNORDERED, INDEXED"
      ],
      "metadata": {
        "id": "Ilm6nhlpzSZ6"
      },
      "execution_count": 2,
      "outputs": []
    },
    {
      "cell_type": "code",
      "source": [
        "# ORDER\n",
        "mylist = [ 1, 2, False, 3.14, 42, 'hello world', True, 1.1, 1.0, 0.0, 3.1400000]\n",
        "mylist"
      ],
      "metadata": {
        "colab": {
          "base_uri": "https://localhost:8080/"
        },
        "id": "bUcq6vCb0ar-",
        "outputId": "62013cc1-bad0-4dfa-ff26-5fa7e231424e"
      },
      "execution_count": 3,
      "outputs": [
        {
          "output_type": "execute_result",
          "data": {
            "text/plain": [
              "[1, 2, False, 3.14, 42, 'hello world', True, 1.1, 1.0, 0.0, 3.14]"
            ]
          },
          "metadata": {},
          "execution_count": 3
        }
      ]
    },
    {
      "cell_type": "code",
      "source": [
        "# INDEX\n",
        "print(mylist[0], mylist[-1]) # Pos -> left to right; Neg-> right to left"
      ],
      "metadata": {
        "colab": {
          "base_uri": "https://localhost:8080/"
        },
        "id": "D9ifEmtG0iKp",
        "outputId": "3fff598e-b60e-4195-b561-f33505d3b86c"
      },
      "execution_count": 4,
      "outputs": [
        {
          "output_type": "stream",
          "name": "stdout",
          "text": [
            "1 3.14\n"
          ]
        }
      ]
    },
    {
      "cell_type": "code",
      "source": [
        "# NO ORDER!!!! NO DUPLICATES!!!\n",
        "myset = {1, 2, False, 3.14, 42, 'hello world', True, 1.1, 1.0, 0.0, 3.1400000}\n",
        "myset"
      ],
      "metadata": {
        "colab": {
          "base_uri": "https://localhost:8080/"
        },
        "id": "-e5VKn980v1t",
        "outputId": "5ec11ea3-cfe4-4bf6-c3fa-ce2177342a97"
      },
      "execution_count": 5,
      "outputs": [
        {
          "output_type": "execute_result",
          "data": {
            "text/plain": [
              "{1, 1.1, 2, 3.14, 42, False, 'hello world'}"
            ]
          },
          "metadata": {},
          "execution_count": 5
        }
      ]
    },
    {
      "cell_type": "code",
      "source": [
        "# NO INDEXING -> following block should give us an ERROR\n",
        "myset[1]"
      ],
      "metadata": {
        "colab": {
          "base_uri": "https://localhost:8080/",
          "height": 159
        },
        "id": "CbYdwkMD06wW",
        "outputId": "61901560-a678-4048-ab61-28c7461421f3"
      },
      "execution_count": 6,
      "outputs": [
        {
          "output_type": "error",
          "ename": "TypeError",
          "evalue": "'set' object is not subscriptable",
          "traceback": [
            "\u001b[0;31m---------------------------------------------------------------------------\u001b[0m",
            "\u001b[0;31mTypeError\u001b[0m                                 Traceback (most recent call last)",
            "\u001b[0;32m<ipython-input-6-8a0477566fc7>\u001b[0m in \u001b[0;36m<cell line: 2>\u001b[0;34m()\u001b[0m\n\u001b[1;32m      1\u001b[0m \u001b[0;31m# NO INDEXING -> following block should give us an ERROR\u001b[0m\u001b[0;34m\u001b[0m\u001b[0;34m\u001b[0m\u001b[0m\n\u001b[0;32m----> 2\u001b[0;31m \u001b[0mmyset\u001b[0m\u001b[0;34m[\u001b[0m\u001b[0;36m1\u001b[0m\u001b[0;34m]\u001b[0m\u001b[0;34m\u001b[0m\u001b[0;34m\u001b[0m\u001b[0m\n\u001b[0m",
            "\u001b[0;31mTypeError\u001b[0m: 'set' object is not subscriptable"
          ]
        }
      ]
    },
    {
      "cell_type": "code",
      "source": [
        "# ORDERED, INDEXED collection\n",
        "mytuple = (  1, 2, False, 3.14, 42, 'hello world', True, 1.1, 1.0, 0.0, 3.1400000 )\n",
        "print(mytuple)\n",
        "print(mytuple[-2])"
      ],
      "metadata": {
        "colab": {
          "base_uri": "https://localhost:8080/"
        },
        "id": "6y0jBYlW1shV",
        "outputId": "62b04caf-1e09-4b7d-a071-d64075aabdba"
      },
      "execution_count": 7,
      "outputs": [
        {
          "output_type": "stream",
          "name": "stdout",
          "text": [
            "(1, 2, False, 3.14, 42, 'hello world', True, 1.1, 1.0, 0.0, 3.14)\n",
            "0.0\n"
          ]
        }
      ]
    },
    {
      "cell_type": "code",
      "source": [
        "# READONLY -> following block should give an error\n",
        "\n",
        "mytuple[0] = 100"
      ],
      "metadata": {
        "colab": {
          "base_uri": "https://localhost:8080/",
          "height": 176
        },
        "id": "3MIol1DJ1-pL",
        "outputId": "3f56f04e-4f39-405c-b656-20fd833e255d"
      },
      "execution_count": 8,
      "outputs": [
        {
          "output_type": "error",
          "ename": "TypeError",
          "evalue": "'tuple' object does not support item assignment",
          "traceback": [
            "\u001b[0;31m---------------------------------------------------------------------------\u001b[0m",
            "\u001b[0;31mTypeError\u001b[0m                                 Traceback (most recent call last)",
            "\u001b[0;32m<ipython-input-8-ea6f5f973e93>\u001b[0m in \u001b[0;36m<cell line: 3>\u001b[0;34m()\u001b[0m\n\u001b[1;32m      1\u001b[0m \u001b[0;31m# READONLY -> following block should give an error\u001b[0m\u001b[0;34m\u001b[0m\u001b[0;34m\u001b[0m\u001b[0m\n\u001b[1;32m      2\u001b[0m \u001b[0;34m\u001b[0m\u001b[0m\n\u001b[0;32m----> 3\u001b[0;31m \u001b[0mmytuple\u001b[0m\u001b[0;34m[\u001b[0m\u001b[0;36m0\u001b[0m\u001b[0;34m]\u001b[0m \u001b[0;34m=\u001b[0m \u001b[0;36m100\u001b[0m\u001b[0;34m\u001b[0m\u001b[0;34m\u001b[0m\u001b[0m\n\u001b[0m",
            "\u001b[0;31mTypeError\u001b[0m: 'tuple' object does not support item assignment"
          ]
        }
      ]
    },
    {
      "cell_type": "code",
      "source": [
        "# dictionary\n",
        "names = ['John','Jim', 'Jane', \"babloo\", 'popye']\n",
        "age = [10, 20, 10, 20, 99]\n",
        "\n",
        "newdictionary = {\n",
        "    'FirstName' : names,\n",
        "    'Age' : age,\n",
        "    'isHungry' : [False, False, True, False, True]\n",
        "}\n",
        "newdictionary"
      ],
      "metadata": {
        "colab": {
          "base_uri": "https://localhost:8080/"
        },
        "id": "xCqT4QOm2Gdj",
        "outputId": "102e2d5e-44b9-4bc1-f715-6ee9a5907fbd"
      },
      "execution_count": 12,
      "outputs": [
        {
          "output_type": "execute_result",
          "data": {
            "text/plain": [
              "{'FirstName': ['John', 'Jim', 'Jane', 'babloo', 'popye'],\n",
              " 'Age': [10, 20, 10, 20, 99],\n",
              " 'isHungry': [False, False, True, False, True]}"
            ]
          },
          "metadata": {},
          "execution_count": 12
        }
      ]
    },
    {
      "cell_type": "code",
      "source": [
        "# 3 types of data\n",
        "# STRUCTURED --> schema present-> databases\n",
        "# SEMI-STRUCTURED --> schema is loosely present --> NoSQL, JSON, XML\n",
        "# UNSTRUCTURED --> schema is absent -> images, text, videos...."
      ],
      "metadata": {
        "id": "keg4T4bQ2vvn"
      },
      "execution_count": 13,
      "outputs": []
    },
    {
      "cell_type": "code",
      "source": [
        "# STRUCTURED DATASETS -> Numpy + Pandas\n",
        "# SEMI-STRUCTURED -> Numpy + Pandas\n",
        "# UNSTRUCTURED -> Numpy + NLP or Computer Vision Libraries"
      ],
      "metadata": {
        "id": "Dz6ZlkBj3TGb"
      },
      "execution_count": null,
      "outputs": []
    }
  ]
}