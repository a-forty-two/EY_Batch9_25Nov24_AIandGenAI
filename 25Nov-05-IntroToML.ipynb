{
  "cells": [
    {
      "cell_type": "code",
      "execution_count": null,
      "id": "dea2d0ad-a0e3-4a80-9ec4-32dc184caa1c",
      "metadata": {
        "id": "dea2d0ad-a0e3-4a80-9ec4-32dc184caa1c"
      },
      "outputs": [],
      "source": [
        "import pandas as pd\n",
        "data = pd.read_csv('https://raw.githubusercontent.com/a-forty-two/EY_batch8_11Nov_AIplusOpenAI/refs/heads/main/data.csv')"
      ]
    },
    {
      "cell_type": "code",
      "execution_count": null,
      "id": "d8161224-e4df-4a51-a5a0-e8ec36ec49a5",
      "metadata": {
        "id": "d8161224-e4df-4a51-a5a0-e8ec36ec49a5"
      },
      "outputs": [],
      "source": [
        "data.tail()"
      ]
    },
    {
      "cell_type": "code",
      "execution_count": null,
      "id": "9b6f41b1-c20c-4205-a1c8-70b5970f31b2",
      "metadata": {
        "id": "9b6f41b1-c20c-4205-a1c8-70b5970f31b2"
      },
      "outputs": [],
      "source": [
        "data.describe()"
      ]
    },
    {
      "cell_type": "code",
      "execution_count": null,
      "id": "a52f3bcc-2899-4057-bc05-de9d70fa0f7c",
      "metadata": {
        "id": "a52f3bcc-2899-4057-bc05-de9d70fa0f7c"
      },
      "outputs": [],
      "source": [
        "# Correlation -> how are variables (COLUMNS OR DIMENSIONS) related to each other?\n",
        "\n",
        "# if there is a very strong correlation between multiple columns, then they are essentially giving us same information!\n",
        "# Do we really need all of them or any one of those columns could have done the trick?\n",
        "all_cols = list(data.columns) [:12] # selecting just the mean columns\n",
        "all_cols.remove('diagnosis')\n",
        "cors = data.loc[:, all_cols].corr()\n",
        "print(cors)"
      ]
    },
    {
      "cell_type": "code",
      "execution_count": null,
      "id": "13b5805a-3161-4eba-ba29-fe2dbb8f8bfb",
      "metadata": {
        "id": "13b5805a-3161-4eba-ba29-fe2dbb8f8bfb"
      },
      "outputs": [],
      "source": [
        "import seaborn as sns\n",
        "sns.heatmap(cors, cmap='coolwarm')\n",
        "\n",
        "# Our learning-> because radius, area and perimeter are highly corrrelated\n",
        "# -> tending to exactly 1 correlation-> we don't need all 3 of them\n",
        "# but rather just 1 of them!\n",
        "# all 3 of them are functions of 1 variable called radius!!!\n",
        "\n",
        "\n",
        "# Learning no. 2:\n",
        "# ID column-> we see that ID column is NOT correlated with\n",
        "# absolutely anything else! It seems to be a totally USELESS\n",
        "# dimension! Do we remove it? Or do we conduct more tests to\n",
        "# validate that its indeed useless!!\n",
        "\n",
        "\n",
        "# Useful v/s useless columns:\n",
        "# if a variable (dimension or column) is impacting either INPUTS\n",
        "# or OUTPUT then it is useful, otherwise useless!"
      ]
    },
    {
      "cell_type": "code",
      "execution_count": null,
      "id": "effcc465-781b-4130-bbbe-933024431bff",
      "metadata": {
        "id": "effcc465-781b-4130-bbbe-933024431bff"
      },
      "outputs": [],
      "source": [
        "import matplotlib.pyplot as plt\n",
        "diagnosis = data.loc[:,'diagnosis']\n",
        "encoding_logic = lambda val: 'red' if val=='M' else 'blue'\n",
        "diagnosis_encoded = diagnosis.map(encoding_logic) # logic will be applied to EVERY element of diagnosis\n",
        "\n",
        "inps = data.loc[:, all_cols]\n",
        "plt.figure() # CLEAN the graph buffer before writing anything into it\n",
        "sm = pd.plotting.scatter_matrix(inps, c=diagnosis_encoded, figsize=(10,10))\n",
        "plt.show()"
      ]
    },
    {
      "cell_type": "code",
      "execution_count": null,
      "id": "7abce3b8-9c0d-416d-9e61-2824c2fc5f66",
      "metadata": {
        "id": "7abce3b8-9c0d-416d-9e61-2824c2fc5f66"
      },
      "outputs": [],
      "source": [
        "# taking a smaller sample for better visuals\n",
        "\n",
        "inps = data.loc[:, all_cols[:4]]\n",
        "plt.figure() # CLEAN the graph buffer before writing anything into it\n",
        "sm = pd.plotting.scatter_matrix(inps, c=diagnosis_encoded, figsize=(10,10))\n",
        "plt.show()\n",
        "\n",
        "# ID -> special interest -> red and blue are all over the place\n",
        "# and their trajectory is completely parallel to both X-axis\n",
        "# and y-axis! This means-> that change output or other inputs\n",
        "# by any tiny value (dx), our column is NOT GOING TO HAVE ANY\n",
        "# IMPACT WHATSOEVER!"
      ]
    },
    {
      "cell_type": "code",
      "execution_count": null,
      "id": "40e48402-5d51-4b87-9808-fabf941f1ddf",
      "metadata": {
        "id": "40e48402-5d51-4b87-9808-fabf941f1ddf"
      },
      "outputs": [],
      "source": [
        "# check if ID column has all unique values\n",
        "\n",
        "data['id'].value_counts().count()\n",
        "# value_counts gives you unique/distinct values in a column"
      ]
    },
    {
      "cell_type": "code",
      "execution_count": null,
      "id": "cd5903cf-19ac-4bab-9dbc-5af67030a2b6",
      "metadata": {
        "id": "cd5903cf-19ac-4bab-9dbc-5af67030a2b6"
      },
      "outputs": [],
      "source": [
        "len(data)\n",
        "# len of data is same as distinct values in ID, and hence\n",
        "# ID can be used as 'primary key' or an INDEX of its own!!!"
      ]
    },
    {
      "cell_type": "code",
      "execution_count": null,
      "id": "5068da49-a5eb-46f4-aff3-8c401748a52c",
      "metadata": {
        "id": "5068da49-a5eb-46f4-aff3-8c401748a52c"
      },
      "outputs": [],
      "source": [
        "data.index\n",
        "# our current index has no special purpose and is just a counter!"
      ]
    },
    {
      "cell_type": "code",
      "execution_count": null,
      "id": "0e67f529-fdd0-4277-b3bc-06a96cd415bf",
      "metadata": {
        "id": "0e67f529-fdd0-4277-b3bc-06a96cd415bf"
      },
      "outputs": [],
      "source": [
        "data = data.set_index('id')\n",
        "data.tail()"
      ]
    },
    {
      "cell_type": "code",
      "execution_count": null,
      "id": "b5fe7798-82ec-461f-8201-7df5e4b03474",
      "metadata": {
        "id": "b5fe7798-82ec-461f-8201-7df5e4b03474"
      },
      "outputs": [],
      "source": [
        "all_cols.remove('id')"
      ]
    },
    {
      "cell_type": "code",
      "execution_count": null,
      "id": "0153c7a0-9d2c-434d-939f-b0cf928e301f",
      "metadata": {
        "id": "0153c7a0-9d2c-434d-939f-b0cf928e301f"
      },
      "outputs": [],
      "source": [
        "all_cols"
      ]
    },
    {
      "cell_type": "code",
      "execution_count": null,
      "id": "45a4330f-241d-4600-946a-4f0417f3fd57",
      "metadata": {
        "id": "45a4330f-241d-4600-946a-4f0417f3fd57"
      },
      "outputs": [],
      "source": [
        "inps = data.loc[:, all_cols[:10]]\n",
        "bins = 12 # relative in nature\n",
        "plt.figure(figsize=(10,10))\n",
        "# enumerate([a,b,c]) -> [(0,a),(1,b), (2,c)]\n",
        "for i, feature in enumerate(inps.columns):\n",
        "  rows = 5\n",
        "  cols = 2\n",
        "  plt.subplot(rows,cols, i+1 )\n",
        "  sns.distplot(data[data['diagnosis']=='M'][feature], bins=bins, color='red', label='M')\n",
        "  sns.distplot(data[data['diagnosis']=='B'][feature], bins=bins, color='blue', label='B')\n",
        "  plt.legend(loc='upper right')\n",
        "\n",
        "plt.show()\n"
      ]
    },
    {
      "cell_type": "code",
      "execution_count": null,
      "id": "4a2b91e2-6007-4996-813d-f5ed62d94524",
      "metadata": {
        "id": "4a2b91e2-6007-4996-813d-f5ed62d94524"
      },
      "outputs": [],
      "source": [
        "# for sake of simplicity, we will continue\n",
        "# with first 10 variables"
      ]
    },
    {
      "cell_type": "code",
      "execution_count": null,
      "id": "c6eb3c24-c2e4-40b7-87a6-a1903447d9d0",
      "metadata": {
        "id": "c6eb3c24-c2e4-40b7-87a6-a1903447d9d0"
      },
      "outputs": [],
      "source": [
        "# prediction?\n",
        "\n",
        "# Statistics, Probability,\n",
        "\n",
        "# 20, 21, 22, 23, ? ??? -> 24.25.....-> stats can't be applied everywhere!\n",
        "\n",
        "# probability can be easily calculated between dies, dependencies\n",
        "\n",
        "# what if using statistics we could figure out a geometric pattern\n",
        "# in our data? and then using probability, convert into a\n",
        "# 'probabilistic outcome' -> ML"
      ]
    },
    {
      "cell_type": "code",
      "execution_count": null,
      "id": "9dcef4e6-3777-49d3-9856-b539cbabe1f0",
      "metadata": {
        "id": "9dcef4e6-3777-49d3-9856-b539cbabe1f0"
      },
      "outputs": [],
      "source": [
        "# ML => y = mx + c\n",
        "\n",
        "# outcome = weights * inputs + bias\n",
        "\n",
        "# diagnosis = w1*radius_mean + w2*texture_mean + w3*area_mean....\n",
        "#         w10*fractal_dim_mean + bias\n",
        "\n",
        "# 2a+b=1, a-b=-1, a=?,b=? -> simultaneous equations\n",
        "\n",
        "# we already know diagnosis, we already know the values of radius, texture...\n",
        "\n",
        "# what is MACHINE trying to LEARN?"
      ]
    },
    {
      "cell_type": "code",
      "execution_count": null,
      "id": "ae2b7bb1-3c04-4523-a82d-7beb90da2122",
      "metadata": {
        "id": "ae2b7bb1-3c04-4523-a82d-7beb90da2122"
      },
      "outputs": [],
      "source": [
        "# we already know X and Y, so machine is trying to learn the values\n",
        "# of M and C such that equation makes sense and delivers least errors!"
      ]
    },
    {
      "cell_type": "code",
      "execution_count": null,
      "id": "6ebaaddf-05f1-405e-bb08-1595bbe0edf2",
      "metadata": {
        "id": "6ebaaddf-05f1-405e-bb08-1595bbe0edf2"
      },
      "outputs": [],
      "source": [
        "# diagnosis = w1*radius_mean + w2*texture_mean + w3*area_mean....\n",
        "#         w10*fractal_dim_mean + bias\n",
        "\n",
        "# diagnosis is known, and so are features\n",
        "# so ml is finding [w1,w2...w10], [bias]\n",
        "\n",
        "# We have now is an ALGORITHM\n",
        "# as we try to fit it into data, we will create a \"MODEL\"\n",
        "# algorithm is logic, model is actual numbers and values!"
      ]
    },
    {
      "cell_type": "code",
      "execution_count": null,
      "id": "36255b66-f395-437c-ab78-272c612d4627",
      "metadata": {
        "id": "36255b66-f395-437c-ab78-272c612d4627"
      },
      "outputs": [],
      "source": [
        "# y = 4ax2 + c is an equation or ALGO\n",
        "# diagnosis = 4.44 * radius^2 + 2 is a MODEL"
      ]
    },
    {
      "cell_type": "code",
      "execution_count": null,
      "id": "6a560f75-7898-4952-bb85-ede0141c4ca6",
      "metadata": {
        "id": "6a560f75-7898-4952-bb85-ede0141c4ca6"
      },
      "outputs": [],
      "source": [
        "# Linear Regression\n",
        "\n",
        "# Regression-> continuous numbers\n",
        "# classification-> binary-> this line can also be used to classify\n",
        "# areas above the line, and below the line!"
      ]
    },
    {
      "cell_type": "code",
      "execution_count": null,
      "id": "809cb6f0-0628-4859-81c6-2135351130be",
      "metadata": {
        "id": "809cb6f0-0628-4859-81c6-2135351130be"
      },
      "outputs": [],
      "source": [
        "x = data.loc[:, all_cols]\n",
        "y = data.loc[:, 'diagnosis']\n",
        "#print(type(y))\n",
        "#print(y[:5])\n",
        "logic = {'M':1, 'B':0}\n",
        "lambda_logic = lambda val: logic[val]\n",
        "y = y.map(lambda_logic)\n",
        "\n",
        "from sklearn.model_selection import train_test_split\n",
        "\n",
        "xtrain, xtest, ytrain, ytest = train_test_split(x,y,test_size=0.2)"
      ]
    },
    {
      "cell_type": "code",
      "execution_count": null,
      "id": "8c67aa58-a71c-4b67-9f82-351603b809d7",
      "metadata": {
        "scrolled": true,
        "id": "8c67aa58-a71c-4b67-9f82-351603b809d7"
      },
      "outputs": [],
      "source": [
        "print(ytrain.tail()) # verify its all 1 and 0, and no longer M and B"
      ]
    },
    {
      "cell_type": "code",
      "execution_count": null,
      "id": "9fd5aff6-405f-4cfd-987f-311d023c7a1d",
      "metadata": {
        "id": "9fd5aff6-405f-4cfd-987f-311d023c7a1d"
      },
      "outputs": [],
      "source": [
        "xtrain.tail() # validate that IDs of xtrain and ytrain are still corresponding\n",
        "# even after shuffling and distributing the data!"
      ]
    },
    {
      "cell_type": "code",
      "execution_count": null,
      "id": "d37b14c7-70ab-4ad0-ad1c-28d1908d87c1",
      "metadata": {
        "id": "d37b14c7-70ab-4ad0-ad1c-28d1908d87c1"
      },
      "outputs": [],
      "source": [
        "from sklearn.linear_model import LogisticRegression\n",
        "\n",
        "model = LogisticRegression() # starts with a WRONG equation\n",
        "\n",
        "# Training data is used to teach the model how to FIT into data\n",
        "\n",
        "# testing data (scoring data) is used to figure out how good or bad our equation is!\n",
        "model.fit(xtrain, ytrain)"
      ]
    },
    {
      "cell_type": "code",
      "execution_count": null,
      "id": "702abef3-49f8-407f-a785-60df9546003c",
      "metadata": {
        "id": "702abef3-49f8-407f-a785-60df9546003c"
      },
      "outputs": [],
      "source": [
        "predictions = model.predict(xtest)\n",
        "# ONLY TESTING DATA PROVIDED\n",
        "# Model will now provide us predictions\n",
        "# which we can verify against ytest outcomes that we already know!"
      ]
    },
    {
      "cell_type": "code",
      "execution_count": null,
      "id": "58595dfd-6126-44ef-ba1e-763b88c503fe",
      "metadata": {
        "id": "58595dfd-6126-44ef-ba1e-763b88c503fe"
      },
      "outputs": [],
      "source": [
        "predictions[:5]"
      ]
    },
    {
      "cell_type": "code",
      "execution_count": null,
      "id": "49145840-5397-4544-a6e8-9c17f6b2e85b",
      "metadata": {
        "id": "49145840-5397-4544-a6e8-9c17f6b2e85b"
      },
      "outputs": [],
      "source": [
        "ytest[:5]"
      ]
    },
    {
      "cell_type": "code",
      "execution_count": null,
      "id": "59572acc-b94e-4b0c-bfb6-6b58a2a1605f",
      "metadata": {
        "id": "59572acc-b94e-4b0c-bfb6-6b58a2a1605f"
      },
      "outputs": [],
      "source": []
    }
  ],
  "metadata": {
    "kernelspec": {
      "display_name": "Python 3 (ipykernel)",
      "language": "python",
      "name": "python3"
    },
    "language_info": {
      "codemirror_mode": {
        "name": "ipython",
        "version": 3
      },
      "file_extension": ".py",
      "mimetype": "text/x-python",
      "name": "python",
      "nbconvert_exporter": "python",
      "pygments_lexer": "ipython3",
      "version": "3.12.3"
    },
    "colab": {
      "provenance": []
    }
  },
  "nbformat": 4,
  "nbformat_minor": 5
}