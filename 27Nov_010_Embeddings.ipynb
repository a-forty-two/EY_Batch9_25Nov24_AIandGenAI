{
  "nbformat": 4,
  "nbformat_minor": 0,
  "metadata": {
    "colab": {
      "provenance": [],
      "authorship_tag": "ABX9TyMqbDNmKoGa695ufVavRIr8",
      "include_colab_link": true
    },
    "kernelspec": {
      "name": "python3",
      "display_name": "Python 3"
    },
    "language_info": {
      "name": "python"
    }
  },
  "cells": [
    {
      "cell_type": "markdown",
      "metadata": {
        "id": "view-in-github",
        "colab_type": "text"
      },
      "source": [
        "<a href=\"https://colab.research.google.com/github/a-forty-two/EY_Batch9_25Nov24_AIandGenAI/blob/main/27Nov_010_Embeddings.ipynb\" target=\"_parent\"><img src=\"https://colab.research.google.com/assets/colab-badge.svg\" alt=\"Open In Colab\"/></a>"
      ]
    },
    {
      "cell_type": "code",
      "execution_count": 1,
      "metadata": {
        "id": "osNWUMgRgfKr"
      },
      "outputs": [],
      "source": [
        "import keras\n",
        "import tensorflow as tf"
      ]
    },
    {
      "cell_type": "code",
      "source": [
        "datasets = keras.datasets\n",
        "dir(datasets)"
      ],
      "metadata": {
        "colab": {
          "base_uri": "https://localhost:8080/"
        },
        "id": "CJHwt-rCgopQ",
        "outputId": "f8a1a3a4-d1a6-49f5-bcd5-be79448f8c20"
      },
      "execution_count": 2,
      "outputs": [
        {
          "output_type": "execute_result",
          "data": {
            "text/plain": [
              "['__builtins__',\n",
              " '__cached__',\n",
              " '__doc__',\n",
              " '__file__',\n",
              " '__loader__',\n",
              " '__name__',\n",
              " '__package__',\n",
              " '__path__',\n",
              " '__spec__',\n",
              " 'boston_housing',\n",
              " 'california_housing',\n",
              " 'cifar10',\n",
              " 'cifar100',\n",
              " 'fashion_mnist',\n",
              " 'imdb',\n",
              " 'mnist',\n",
              " 'reuters']"
            ]
          },
          "metadata": {},
          "execution_count": 2
        }
      ]
    },
    {
      "cell_type": "code",
      "source": [
        "imdb_dataset = keras.datasets.imdb\n",
        "dir(imdb_dataset)"
      ],
      "metadata": {
        "colab": {
          "base_uri": "https://localhost:8080/"
        },
        "id": "hV_m3vyrgwQu",
        "outputId": "7ef754ba-4608-428a-acbd-62ac35428554"
      },
      "execution_count": 3,
      "outputs": [
        {
          "output_type": "execute_result",
          "data": {
            "text/plain": [
              "['__builtins__',\n",
              " '__cached__',\n",
              " '__doc__',\n",
              " '__file__',\n",
              " '__loader__',\n",
              " '__name__',\n",
              " '__package__',\n",
              " '__path__',\n",
              " '__spec__',\n",
              " 'get_word_index',\n",
              " 'load_data']"
            ]
          },
          "metadata": {},
          "execution_count": 3
        }
      ]
    },
    {
      "cell_type": "code",
      "source": [
        "wordindex = imdb_dataset.get_word_index()"
      ],
      "metadata": {
        "colab": {
          "base_uri": "https://localhost:8080/"
        },
        "id": "N6xdiVT6g44K",
        "outputId": "effcaccc-e187-40fd-e6a6-8e0701381c6a"
      },
      "execution_count": 4,
      "outputs": [
        {
          "output_type": "stream",
          "name": "stdout",
          "text": [
            "Downloading data from https://storage.googleapis.com/tensorflow/tf-keras-datasets/imdb_word_index.json\n",
            "\u001b[1m1641221/1641221\u001b[0m \u001b[32m━━━━━━━━━━━━━━━━━━━━\u001b[0m\u001b[37m\u001b[0m \u001b[1m0s\u001b[0m 0us/step\n"
          ]
        }
      ]
    },
    {
      "cell_type": "code",
      "source": [
        "len(wordindex)"
      ],
      "metadata": {
        "colab": {
          "base_uri": "https://localhost:8080/"
        },
        "id": "631DtgB5ioGq",
        "outputId": "77198d57-a3c3-4611-961e-498e02229883"
      },
      "execution_count": 26,
      "outputs": [
        {
          "output_type": "execute_result",
          "data": {
            "text/plain": [
              "88584"
            ]
          },
          "metadata": {},
          "execution_count": 26
        }
      ]
    },
    {
      "cell_type": "code",
      "source": [
        "type(wordindex)"
      ],
      "metadata": {
        "colab": {
          "base_uri": "https://localhost:8080/"
        },
        "id": "27t4qfM5hBkb",
        "outputId": "780e6abc-2f4f-45b1-eb1e-241488c115f5"
      },
      "execution_count": 6,
      "outputs": [
        {
          "output_type": "execute_result",
          "data": {
            "text/plain": [
              "dict"
            ]
          },
          "metadata": {},
          "execution_count": 6
        }
      ]
    },
    {
      "cell_type": "code",
      "source": [
        "wordindex['hello']"
      ],
      "metadata": {
        "colab": {
          "base_uri": "https://localhost:8080/"
        },
        "id": "wNl7rf4QhDK4",
        "outputId": "86caee25-d4cc-4179-c33d-5b3ea97fdb7e"
      },
      "execution_count": 7,
      "outputs": [
        {
          "output_type": "execute_result",
          "data": {
            "text/plain": [
              "4822"
            ]
          },
          "metadata": {},
          "execution_count": 7
        }
      ]
    },
    {
      "cell_type": "code",
      "source": [
        "data = imdb_dataset.load_data()"
      ],
      "metadata": {
        "colab": {
          "base_uri": "https://localhost:8080/"
        },
        "id": "AtDE-kH9hKmP",
        "outputId": "3feb1fe0-c7d4-4d98-dfa3-c772ca18e8b5"
      },
      "execution_count": 8,
      "outputs": [
        {
          "output_type": "stream",
          "name": "stdout",
          "text": [
            "Downloading data from https://storage.googleapis.com/tensorflow/tf-keras-datasets/imdb.npz\n",
            "\u001b[1m17464789/17464789\u001b[0m \u001b[32m━━━━━━━━━━━━━━━━━━━━\u001b[0m\u001b[37m\u001b[0m \u001b[1m0s\u001b[0m 0us/step\n"
          ]
        }
      ]
    },
    {
      "cell_type": "code",
      "source": [
        "len(data)"
      ],
      "metadata": {
        "colab": {
          "base_uri": "https://localhost:8080/"
        },
        "id": "89sKKTAphRcU",
        "outputId": "8be5c87e-bf91-4bf6-de16-787caa186a92"
      },
      "execution_count": 11,
      "outputs": [
        {
          "output_type": "execute_result",
          "data": {
            "text/plain": [
              "2"
            ]
          },
          "metadata": {},
          "execution_count": 11
        }
      ]
    },
    {
      "cell_type": "code",
      "source": [
        "len(data[0]), len(data[1])"
      ],
      "metadata": {
        "colab": {
          "base_uri": "https://localhost:8080/"
        },
        "id": "oo_Pw_DehUX9",
        "outputId": "48d1061a-61da-48f2-c7df-59f22a961a26"
      },
      "execution_count": 16,
      "outputs": [
        {
          "output_type": "execute_result",
          "data": {
            "text/plain": [
              "(2, 2)"
            ]
          },
          "metadata": {},
          "execution_count": 16
        }
      ]
    },
    {
      "cell_type": "code",
      "source": [
        "len(data[0][0]), len(data[0][1])"
      ],
      "metadata": {
        "colab": {
          "base_uri": "https://localhost:8080/"
        },
        "id": "UX6eldZrhdXj",
        "outputId": "982fbf5c-7862-442a-ae67-5d676c20da5b"
      },
      "execution_count": 17,
      "outputs": [
        {
          "output_type": "execute_result",
          "data": {
            "text/plain": [
              "(25000, 25000)"
            ]
          },
          "metadata": {},
          "execution_count": 17
        }
      ]
    },
    {
      "cell_type": "code",
      "source": [
        "len(data[1][0]), len(data[1][1])"
      ],
      "metadata": {
        "colab": {
          "base_uri": "https://localhost:8080/"
        },
        "id": "eJcVWjMshyEE",
        "outputId": "94df8a0a-8ec6-41dc-a60a-a3f7d4942298"
      },
      "execution_count": 18,
      "outputs": [
        {
          "output_type": "execute_result",
          "data": {
            "text/plain": [
              "(25000, 25000)"
            ]
          },
          "metadata": {},
          "execution_count": 18
        }
      ]
    },
    {
      "cell_type": "markdown",
      "source": [
        "this looks like training and testing data, where each data point possibly contain observations and labels!"
      ],
      "metadata": {
        "id": "4zVAjaXOh5Dt"
      }
    },
    {
      "cell_type": "code",
      "source": [
        "train, test = data"
      ],
      "metadata": {
        "id": "euNDVAimh25Q"
      },
      "execution_count": 21,
      "outputs": []
    },
    {
      "cell_type": "code",
      "source": [
        "xtrain, ytrain = train\n",
        "xtest, ytest = test"
      ],
      "metadata": {
        "id": "ElrYdfo7iDj9"
      },
      "execution_count": 22,
      "outputs": []
    },
    {
      "cell_type": "code",
      "source": [
        "ytrain[:5]"
      ],
      "metadata": {
        "colab": {
          "base_uri": "https://localhost:8080/"
        },
        "id": "9KiYlgwqiEMe",
        "outputId": "4bbb389b-3722-44c6-c19f-90c8dde1d19d"
      },
      "execution_count": 23,
      "outputs": [
        {
          "output_type": "execute_result",
          "data": {
            "text/plain": [
              "array([1, 0, 0, 1, 0])"
            ]
          },
          "metadata": {},
          "execution_count": 23
        }
      ]
    },
    {
      "cell_type": "code",
      "source": [
        "ytest[:5]"
      ],
      "metadata": {
        "colab": {
          "base_uri": "https://localhost:8080/"
        },
        "id": "YD6oTyzViN5k",
        "outputId": "9bf5da3f-0d7e-4ee6-9b99-70e4687a0af2"
      },
      "execution_count": 24,
      "outputs": [
        {
          "output_type": "execute_result",
          "data": {
            "text/plain": [
              "array([0, 1, 1, 0, 1])"
            ]
          },
          "metadata": {},
          "execution_count": 24
        }
      ]
    },
    {
      "cell_type": "code",
      "source": [
        "xtrain[:5]"
      ],
      "metadata": {
        "colab": {
          "base_uri": "https://localhost:8080/"
        },
        "id": "7i9KH6QbiQEW",
        "outputId": "8ab23239-8a05-4f69-b1ad-c48df4b38e2a"
      },
      "execution_count": 25,
      "outputs": [
        {
          "output_type": "execute_result",
          "data": {
            "text/plain": [
              "array([list([1, 14, 22, 16, 43, 530, 973, 1622, 1385, 65, 458, 4468, 66, 3941, 4, 173, 36, 256, 5, 25, 100, 43, 838, 112, 50, 670, 22665, 9, 35, 480, 284, 5, 150, 4, 172, 112, 167, 21631, 336, 385, 39, 4, 172, 4536, 1111, 17, 546, 38, 13, 447, 4, 192, 50, 16, 6, 147, 2025, 19, 14, 22, 4, 1920, 4613, 469, 4, 22, 71, 87, 12, 16, 43, 530, 38, 76, 15, 13, 1247, 4, 22, 17, 515, 17, 12, 16, 626, 18, 19193, 5, 62, 386, 12, 8, 316, 8, 106, 5, 4, 2223, 5244, 16, 480, 66, 3785, 33, 4, 130, 12, 16, 38, 619, 5, 25, 124, 51, 36, 135, 48, 25, 1415, 33, 6, 22, 12, 215, 28, 77, 52, 5, 14, 407, 16, 82, 10311, 8, 4, 107, 117, 5952, 15, 256, 4, 31050, 7, 3766, 5, 723, 36, 71, 43, 530, 476, 26, 400, 317, 46, 7, 4, 12118, 1029, 13, 104, 88, 4, 381, 15, 297, 98, 32, 2071, 56, 26, 141, 6, 194, 7486, 18, 4, 226, 22, 21, 134, 476, 26, 480, 5, 144, 30, 5535, 18, 51, 36, 28, 224, 92, 25, 104, 4, 226, 65, 16, 38, 1334, 88, 12, 16, 283, 5, 16, 4472, 113, 103, 32, 15, 16, 5345, 19, 178, 32]),\n",
              "       list([1, 194, 1153, 194, 8255, 78, 228, 5, 6, 1463, 4369, 5012, 134, 26, 4, 715, 8, 118, 1634, 14, 394, 20, 13, 119, 954, 189, 102, 5, 207, 110, 3103, 21, 14, 69, 188, 8, 30, 23, 7, 4, 249, 126, 93, 4, 114, 9, 2300, 1523, 5, 647, 4, 116, 9, 35, 8163, 4, 229, 9, 340, 1322, 4, 118, 9, 4, 130, 4901, 19, 4, 1002, 5, 89, 29, 952, 46, 37, 4, 455, 9, 45, 43, 38, 1543, 1905, 398, 4, 1649, 26, 6853, 5, 163, 11, 3215, 10156, 4, 1153, 9, 194, 775, 7, 8255, 11596, 349, 2637, 148, 605, 15358, 8003, 15, 123, 125, 68, 23141, 6853, 15, 349, 165, 4362, 98, 5, 4, 228, 9, 43, 36893, 1157, 15, 299, 120, 5, 120, 174, 11, 220, 175, 136, 50, 9, 4373, 228, 8255, 5, 25249, 656, 245, 2350, 5, 4, 9837, 131, 152, 491, 18, 46151, 32, 7464, 1212, 14, 9, 6, 371, 78, 22, 625, 64, 1382, 9, 8, 168, 145, 23, 4, 1690, 15, 16, 4, 1355, 5, 28, 6, 52, 154, 462, 33, 89, 78, 285, 16, 145, 95]),\n",
              "       list([1, 14, 47, 8, 30, 31, 7, 4, 249, 108, 7, 4, 5974, 54, 61, 369, 13, 71, 149, 14, 22, 112, 4, 2401, 311, 12, 16, 3711, 33, 75, 43, 1829, 296, 4, 86, 320, 35, 534, 19, 263, 4821, 1301, 4, 1873, 33, 89, 78, 12, 66, 16, 4, 360, 7, 4, 58, 316, 334, 11, 4, 1716, 43, 645, 662, 8, 257, 85, 1200, 42, 1228, 2578, 83, 68, 3912, 15, 36, 165, 1539, 278, 36, 69, 44076, 780, 8, 106, 14, 6905, 1338, 18, 6, 22, 12, 215, 28, 610, 40, 6, 87, 326, 23, 2300, 21, 23, 22, 12, 272, 40, 57, 31, 11, 4, 22, 47, 6, 2307, 51, 9, 170, 23, 595, 116, 595, 1352, 13, 191, 79, 638, 89, 51428, 14, 9, 8, 106, 607, 624, 35, 534, 6, 227, 7, 129, 113]),\n",
              "       list([1, 4, 18609, 16085, 33, 2804, 4, 2040, 432, 111, 153, 103, 4, 1494, 13, 70, 131, 67, 11, 61, 15305, 744, 35, 3715, 761, 61, 5766, 452, 9214, 4, 985, 7, 64317, 59, 166, 4, 105, 216, 1239, 41, 1797, 9, 15, 7, 35, 744, 2413, 31, 8, 4, 687, 23, 4, 33929, 7339, 6, 3693, 42, 38, 39, 121, 59, 456, 10, 10, 7, 265, 12, 575, 111, 153, 159, 59, 16, 1447, 21, 25, 586, 482, 39, 4, 96, 59, 716, 12, 4, 172, 65, 9, 579, 11, 6004, 4, 1615, 5, 23005, 7, 5168, 17, 13, 7064, 12, 19, 6, 464, 31, 314, 11, 87564, 6, 719, 605, 11, 8, 202, 27, 310, 4, 3772, 3501, 8, 2722, 58, 10, 10, 537, 2116, 180, 40, 14, 413, 173, 7, 263, 112, 37, 152, 377, 4, 537, 263, 846, 579, 178, 54, 75, 71, 476, 36, 413, 263, 2504, 182, 5, 17, 75, 2306, 922, 36, 279, 131, 2895, 17, 2867, 42, 17, 35, 921, 18435, 192, 5, 1219, 3890, 19, 20523, 217, 4122, 1710, 537, 20341, 1236, 5, 736, 10, 10, 61, 403, 9, 47289, 40, 61, 4494, 5, 27, 4494, 159, 90, 263, 2311, 4319, 309, 8, 178, 5, 82, 4319, 4, 65, 15, 9225, 145, 143, 5122, 12, 7039, 537, 746, 537, 537, 15, 7979, 4, 18665, 594, 7, 5168, 94, 9096, 3987, 15242, 11, 28280, 4, 538, 7, 1795, 246, 56615, 9, 10161, 11, 635, 14, 9, 51, 408, 12, 94, 318, 1382, 12, 47, 6, 2683, 936, 5, 6307, 10197, 19, 49, 7, 4, 1885, 13699, 1118, 25, 80, 126, 842, 10, 10, 47289, 18223, 4726, 27, 4494, 11, 1550, 3633, 159, 27, 341, 29, 2733, 19, 4185, 173, 7, 90, 16376, 8, 30, 11, 4, 1784, 86, 1117, 8, 3261, 46, 11, 25837, 21, 29, 9, 2841, 23, 4, 1010, 26747, 793, 6, 13699, 1386, 1830, 10, 10, 246, 50, 9, 6, 2750, 1944, 746, 90, 29, 16376, 8, 124, 4, 882, 4, 882, 496, 27, 33029, 2213, 537, 121, 127, 1219, 130, 5, 29, 494, 8, 124, 4, 882, 496, 4, 341, 7, 27, 846, 10, 10, 29, 9, 1906, 8, 97, 6, 236, 11120, 1311, 8, 4, 23643, 7, 31, 7, 29851, 91, 22793, 3987, 70, 4, 882, 30, 579, 42, 9, 12, 32, 11, 537, 10, 10, 11, 14, 65, 44, 537, 75, 11876, 1775, 3353, 12716, 1846, 4, 11286, 7, 154, 5, 4, 518, 53, 13243, 11286, 7, 3211, 882, 11, 399, 38, 75, 257, 3807, 19, 18223, 17, 29, 456, 4, 65, 7, 27, 205, 113, 10, 10, 33058, 4, 22793, 10359, 9, 242, 4, 91, 1202, 11377, 5, 2070, 307, 22, 7, 5168, 126, 93, 40, 18223, 13, 188, 1076, 3222, 19, 4, 13465, 7, 2348, 537, 23, 53, 537, 21, 82, 40, 18223, 13, 33195, 14, 280, 13, 219, 4, 52788, 431, 758, 859, 4, 953, 1052, 12283, 7, 5991, 5, 94, 40, 25, 238, 60, 35410, 4, 15812, 804, 27767, 7, 4, 9941, 132, 8, 67, 6, 22, 15, 9, 283, 8, 5168, 14, 31, 9, 242, 955, 48, 25, 279, 22148, 23, 12, 1685, 195, 25, 238, 60, 796, 13713, 4, 671, 7, 2804, 5, 4, 559, 154, 888, 7, 726, 50, 26, 49, 7008, 15, 566, 30, 579, 21, 64, 2574]),\n",
              "       list([1, 249, 1323, 7, 61, 113, 10, 10, 13, 1637, 14, 20, 56, 33, 2401, 18, 457, 88, 13, 2626, 1400, 45, 3171, 13, 70, 79, 49, 706, 919, 13, 16, 355, 340, 355, 1696, 96, 143, 4, 22, 32, 289, 7, 61, 369, 71, 2359, 5, 13, 16, 131, 2073, 249, 114, 249, 229, 249, 20, 13, 28, 126, 110, 13, 473, 8, 569, 61, 419, 56, 429, 6, 1513, 18, 35, 534, 95, 474, 570, 5, 25, 124, 138, 88, 12, 421, 1543, 52, 725, 6397, 61, 419, 11, 13, 1571, 15, 1543, 20, 11, 4, 22016, 5, 296, 12, 3524, 5, 15, 421, 128, 74, 233, 334, 207, 126, 224, 12, 562, 298, 2167, 1272, 7, 2601, 5, 516, 988, 43, 8, 79, 120, 15, 595, 13, 784, 25, 3171, 18, 165, 170, 143, 19, 14, 5, 7224, 6, 226, 251, 7, 61, 113])],\n",
              "      dtype=object)"
            ]
          },
          "metadata": {},
          "execution_count": 25
        }
      ]
    },
    {
      "cell_type": "code",
      "source": [
        "revwordindex = {value:key for (key, value) in wordindex.items()}\n",
        "\n",
        "revwordindex[100]"
      ],
      "metadata": {
        "colab": {
          "base_uri": "https://localhost:8080/",
          "height": 35
        },
        "id": "2wgDM_yGiRkc",
        "outputId": "8db5256c-cd91-41ea-bba0-a23812c63280"
      },
      "execution_count": 28,
      "outputs": [
        {
          "output_type": "execute_result",
          "data": {
            "text/plain": [
              "'after'"
            ],
            "application/vnd.google.colaboratory.intrinsic+json": {
              "type": "string"
            }
          },
          "metadata": {},
          "execution_count": 28
        }
      ]
    },
    {
      "cell_type": "code",
      "source": [
        "def decoder(sen):\n",
        "  return \" \".join([revwordindex[word] for word in sen])"
      ],
      "metadata": {
        "id": "s6gjNmjvjEfi"
      },
      "execution_count": 29,
      "outputs": []
    },
    {
      "cell_type": "code",
      "source": [
        "decoder(xtrain[0])"
      ],
      "metadata": {
        "colab": {
          "base_uri": "https://localhost:8080/",
          "height": 143
        },
        "id": "p9PV3lY3jcFs",
        "outputId": "837ec947-39ff-4f8a-b7b4-dd63000e2da5"
      },
      "execution_count": 30,
      "outputs": [
        {
          "output_type": "execute_result",
          "data": {
            "text/plain": [
              "\"the as you with out themselves powerful lets loves their becomes reaching had journalist of lot from anyone to have after out atmosphere never more room titillate it so heart shows to years of every never going villaronga help moments or of every chest visual movie except her was several of enough more with is now current film as you of mine potentially unfortunately of you than him that with out themselves her get for was camp of you movie sometimes movie that with scary but pratfalls to story wonderful that in seeing in character to of 70s musicians with heart had shadows they of here that with her serious to have does when from why what have critics they is you that isn't one will very to as itself with other tricky in of seen over landed for anyone of gilmore's br show's to whether from than out themselves history he name half some br of 'n odd was two most of mean for 1 any an boat she he should is thought frog but of script you not while history he heart to real at barrel but when from one bit then have two of script their with her nobody most that with wasn't to with armed acting watch an for with heartfelt film want an\""
            ],
            "application/vnd.google.colaboratory.intrinsic+json": {
              "type": "string"
            }
          },
          "metadata": {},
          "execution_count": 30
        }
      ]
    },
    {
      "cell_type": "markdown",
      "source": [
        "PAD -> 0 -> NO PRESENCE OF TOKEN\n",
        "\n",
        "START->   1 -> beginning of sentence\n",
        "\n",
        "UNKNOWN -> 2 -> words outside my dictionary\n",
        "\n",
        "UNUSED -> 3 -> words in dictionary that we never use\n",
        "\n"
      ],
      "metadata": {
        "id": "S4T53AF4jZcV"
      }
    },
    {
      "cell_type": "markdown",
      "source": [
        "Importance of padding:\n",
        "\n",
        "\n",
        "Neural networks accept only FIXED SIZE inputs!\n",
        "\n",
        "All our sentences are variable lengths!\n",
        "\n",
        "If sentences length are > neural input length -> chop the sentences!\n",
        "\n",
        "If sentences lengths are < neural input length-> fill up the empty positions with 0 or PAD\n",
        "\n"
      ],
      "metadata": {
        "id": "_G_yV8qfj_fo"
      }
    },
    {
      "cell_type": "code",
      "source": [
        "revwordindex[1] # should be start but we are expecting some other word; most common word in our corpur"
      ],
      "metadata": {
        "colab": {
          "base_uri": "https://localhost:8080/",
          "height": 35
        },
        "id": "WYeLeY1VkgMl",
        "outputId": "f8b77630-f6e0-4934-9637-c7169ef4fcb4"
      },
      "execution_count": 31,
      "outputs": [
        {
          "output_type": "execute_result",
          "data": {
            "text/plain": [
              "'the'"
            ],
            "application/vnd.google.colaboratory.intrinsic+json": {
              "type": "string"
            }
          },
          "metadata": {},
          "execution_count": 31
        }
      ]
    },
    {
      "cell_type": "code",
      "source": [
        "revwordindex[0] # is expected to be <PAD>\n",
        "\n",
        "# ERROR BECAUSE TOKEN 0 doesn't even exist!"
      ],
      "metadata": {
        "colab": {
          "base_uri": "https://localhost:8080/",
          "height": 144
        },
        "id": "m0XT2kLMkniy",
        "outputId": "4a6386ed-a2b7-44b2-8f7b-4f7d7726fc7e"
      },
      "execution_count": 33,
      "outputs": [
        {
          "output_type": "error",
          "ename": "KeyError",
          "evalue": "0",
          "traceback": [
            "\u001b[0;31m---------------------------------------------------------------------------\u001b[0m",
            "\u001b[0;31mKeyError\u001b[0m                                  Traceback (most recent call last)",
            "\u001b[0;32m<ipython-input-33-43aefd937a09>\u001b[0m in \u001b[0;36m<cell line: 1>\u001b[0;34m()\u001b[0m\n\u001b[0;32m----> 1\u001b[0;31m \u001b[0mrevwordindex\u001b[0m\u001b[0;34m[\u001b[0m\u001b[0;36m0\u001b[0m\u001b[0;34m]\u001b[0m \u001b[0;31m# is expected to be <PAD>\u001b[0m\u001b[0;34m\u001b[0m\u001b[0;34m\u001b[0m\u001b[0m\n\u001b[0m",
            "\u001b[0;31mKeyError\u001b[0m: 0"
          ]
        }
      ]
    },
    {
      "cell_type": "code",
      "source": [
        "# we need to create positions for the missing tokens!\n",
        "\n",
        "new_dict = {key:value+3 for key,value in wordindex.items()}\n",
        "new_dict[\"<PAD>\"] = 0\n",
        "new_dict[\"<START>\"] = 1\n",
        "new_dict[\"<UNK>\"] = 2\n",
        "new_dict[\"<UNUSED>\"] = 3"
      ],
      "metadata": {
        "id": "Jw4F8FKIktyQ"
      },
      "execution_count": 43,
      "outputs": []
    },
    {
      "cell_type": "code",
      "source": [
        "revdictionary = {value:key for (key, value) in new_dict.items()}"
      ],
      "metadata": {
        "id": "XQEybiUUlHN_"
      },
      "execution_count": 44,
      "outputs": []
    },
    {
      "cell_type": "code",
      "source": [
        "def decoder(sen):\n",
        "  return \" \".join([revdictionary[word] for word in sen])"
      ],
      "metadata": {
        "id": "cl9RXE_4lK7A"
      },
      "execution_count": 45,
      "outputs": []
    },
    {
      "cell_type": "code",
      "source": [
        "for i in range(10,50):\n",
        "  print(decoder(xtrain[i]))"
      ],
      "metadata": {
        "colab": {
          "base_uri": "https://localhost:8080/"
        },
        "id": "ktptnjqClPKg",
        "outputId": "8d97abf1-cc9a-4c0e-be04-4e7a70ce7efd"
      },
      "execution_count": 47,
      "outputs": [
        {
          "output_type": "stream",
          "name": "stdout",
          "text": [
            "<START> french horror cinema has seen something of a revival over the last couple of years with great films such as inside and switchblade romance bursting on to the scene maléfique preceded the revival just slightly but stands head and shoulders over most modern horror titles and is surely one of the best french horror films ever made maléfique was obviously shot on a low budget but this is made up for in far more ways than one by the originality of the film and this in turn is complimented by the excellent writing and acting that ensure the film is a winner the plot focuses on two main ideas prison and black magic the central character is a man named carrère sent to prison for fraud he is put in a cell with three others the quietly insane lassalle body building transvestite marcus and his retarded boyfriend daisy after a short while in the cell together they stumble upon a hiding place in the wall that contains an old journal after translating part of it they soon realise its magical powers and realise they may be able to use it to break through the prison walls br br black magic is a very interesting topic and i'm actually quite surprised that there aren't more films based on it as there's so much scope for things to do with it it's fair to say that maléfique makes the best of it's assets as despite it's restraints the film never actually feels restrained and manages to flow well throughout director eric valette provides a great atmosphere for the film the fact that most of it takes place inside the central prison cell ensures that the film feels very claustrophobic and this immensely benefits the central idea of the prisoners wanting to use magic to break out of the cell it's very easy to get behind them it's often said that the unknown is the thing that really frightens people and this film proves that as the director ensures that we can never really be sure of exactly what is round the corner and this helps to ensure that maléfique actually does manage to be quite frightening the film is memorable for a lot of reasons outside the central plot the characters are all very interesting in their own way and the fact that the book itself almost takes on its own character is very well done anyone worried that the film won't deliver by the end won't be disappointed either as the ending both makes sense and manages to be quite horrifying overall maléfique is a truly great horror film and one of the best of the decade highly recommended viewing\n",
            "<START> when i rented this movie i had very low expectations but when i saw it i realized that the movie was less a lot less than what i expected the actors were bad the doctor's wife was one of the worst the story was so stupid it could work for a disney movie except for the murders but this one is not a comedy it is a laughable masterpiece of stupidity the title is well chosen except for one thing they could add stupid movie after dead husbands i give it 0 and a half out of 5\n",
            "<START> i love cheesy horror flicks i don't care if the acting is sub par or whether the monsters look corny i liked this movie except for the bewildered feeling all the way from the beginning of the film to the very end look i don't need a 10 page dissertation or a sign with big letters explaining a plot to me but dark floors takes the what is this movie about thing to a whole new annoying level what is this movie about br br this isn't exceptionally scary or thrilling but if you have an hour and a half to kill and or you want to end up feeling frustrated and confused rent this winner\n",
            "<START> anyone who could find redeeming value in this piece of crap ought to have their head examined we have the submissive heroin addicted part time hooker wife with lacerations all over her body lacerations received from repeated beatings by an abusive son now she is squirting breast milk all over the kitchen floor the release so gained somehow akin to helen keller placing her hands in running water we have the husband who starts out by patronizing a prostitute who just happens to be his daughter she's upset with him because he came too quickly and ends by murdering his female colleague having sex with her corpse and then chopping her up we have the kid who is relentlessly bullied by his classmates and who comes home and beats his mom you see it's all circular deep huh the only decent moment in this horrendous pile of tripe is when the dad murders his son's tormentors it's a good thing this turkey was shot on video because otherwise what a waste of expensive film it would be if that guy who thinks artists ought to be interested in this slop is really serious no wonder most people think artists are insane we saw this lousy movie then put on zero woman the accused oh my god it was a tossup as to which one was worse what is going on in japan these days sick sick sick\n",
            "<START> b movie at best sound effects are pretty good lame concept decent execution i suppose it's a rental br br you put some olive oil in your mouth to save you from de poison den you cut de bite and suck out de poisen you gonna be ok tommy br br you stay by the airphone when agent harris calls you get me give me a fire extinguisher br br weapons we need weapons where's the silverware all we have is this sporks br br dr price is the snake expert br br local ers can handle the occasional snakebite alert every er in the tri city area\n",
            "<START> a total waste of time just throw in a few explosions non stop fighting exotic cars a deranged millionaire slow motion computer generated car crashes and last but not least a hugh hefner like character with wall to wall hot babes and mix in a blender and you will have this sorry excuse for a movie i really got a laugh out of the dr evil like heavily fortified compound the plot was somewhere between preposterous and non existent how many millionaires are willing to make a 25 million dollar bet on a car race answer 4 but didn't they become millionaires through fiscal responsibility this was written for pubescent males it plays like a video game i did enjoy the gulfstream ii landing in the desert though\n",
            "<START> laputa castle in the sky is the bomb the message is as strong as his newer works and more pure fantastic and flying pirates how could it be any better the art is totally amazing and the soundtrack which is reused many times after this im not sure if this was the first time i heard it and evokes in me the most emotional sentimental response of any movie soundtrack sheeta the female lead in this movie is totally awesome and the boy pazu is also a great role model he lives on his own the plot is classic miyazaki i won't give it away but the end is really great i rank this as one of miyazaki's three best with nausicaa and spirited away also you may want to check out howl's moving castle when it comes out sometime next year i hope if you like miyazaki check this one out as it readily available in the usa enjoy piper a\n",
            "<START> at the height of the 'celebrity big brother' racism row in 2007 involving shilpa shetty and the late jade goody i condemned on an internet forum those 'c b b ' fans who praised the show after years of bashing 'racist' '70's sitcoms such as 'curry chips' 'love thy neighbour' i thought they were being hypocritical and said so 'it ain't half hot mum' was then thrown into the argument with some pointing out it had starred an english actor blacked up well yes but michael bates had lived in india as a boy and spoke urdu fluently the show's detractors overlook the reality he brought to his performance as bearer 'rangi ram' the noted indian character actor renu setna said in a 1995 documentary 'perry croft the sitcoms' that he was upset when he heard bates had landed the role but added no indian actor could have played that role as well as bates indeed br br 'mum' was perry and croft's companion show to 'dad's army' also set in wartime the sedate english town of walmington on sea had been replaced by the hot steamy jungles of india in particularly a place called deolali where an army concert party puts on shows for the troops among them bombadier solomons george layton his first sitcom role since 'doctor in charge' camp gunner 'gloria' beaumont melvyn hayes diminutive gunner 'lofty' sugden 'lah de dah' gunner graham john clegg and gunner parkins the late christopher mitchell presiding over this gang of misfits was the bellicose sergeant major williams the brilliant windsor davies who regarded them all as 'poofs' his frustration at not being able to lead his men up the jungle to engage the enemy in combat made him bitter and bullying though he was nice to parkins whom he thought was his illegitimate son then there was ever so english colonel reynolds donald hewlett and dimwitted captain ashwood michael knowles rangi was like a wise old sage beginning each show by talking to the camera and closing them by quoting obscure hindu proverbs he loved being bearer so much he came to regard himself as practically british his friends were the tea making char wallah the late dino shafeek who went on to 'mind your language' and the rope pulling punka wallah babar bhatti so real indians featured in the show another point its detractors ignore shafeek also provided what was described on the credits as 'vocal interruptions' similar to the '40's songs used as incidental music on 'dad's army' each edition closed with him warbling 'land of hope glory' only to be silenced by a 'shut up ' from williams the excellent opening theme was penned by jimmy perry and derek taverner br br though never quite equalling 'dad's army' in the public's affections 'mum' nevertheless was popular enough to run for a total of eight seasons in 1975 davies and estelle topped the charts with a cover version of that old chestnut 'whispering grass' they then recorded an entire album of old chestnuts entitled what else 'sing lofty ' br br the show hit crisis point three years later when bates died of cancer rather than recast the role of 'rangi' the writers just let him be quietly forgotten when george layton left the character of 'gloria' took his place as 'bombadier' providing another source of comedy br br the last edition in 1981 saw the soldiers leave india by boat for blighty the char wallah watching them go with great sadness as did viewers br br repeats have been few and far between mainly on u k gold all because of its so called 'dodgy' reputation this is strange for one thing the show was not specifically about racism if a white man blacked up is so wrong why does david lean's 1984 film 'a passage to india' still get shown on television it featured alec guinness as an indian and won two oscars it was derived from jimmy perry's own experiences some characters were based on real people the sergeant major really did refer to his men as 'poofs' i take the view that if you are going to put history on television get it right sanitizing the past no matter how unsavoury it might seem to modern audiences is fundamentally dishonest 'mum' was both funny and truthful and viewers saw this thank heavens for d v d 's i say time to stop this review as williams would say i'll have no gossiping in this jungle\n",
            "<START> i have only had the luxury of seeing this movie once when i was rather young so much of the movie is blurred in trying to remember it however i can say it was not as funny as a movie called killer tomatoes should have been and the most memorable things from this movie are the song and the scene with the elderly couple talking about poor timmy other than that the movie is really just scenes of little tomatoes and big tomatoes rolling around and people acting scared and overacting as people should do in a movie of this type however just having a very silly premise and a catchy theme song do not a good comedy make granted this movie is supposed to be a b movie nothing to be taken seriously however you should still make jokes that are funny and not try to extend a mildly amusing premise into a full fledged movie perhaps a short would have been fine as the trailer showing the elderly couple mentioned above and a man desperately trying to gun down a larger tomato was actually pretty good the trailer itself looked like a mock trailer but no they indeed made a full movie and a rather weak one at that\n",
            "<START> chances are is a charming romantic fantasy about a woman cybill shepherd whose husband christopher mcdonald is killed shortly after learning she is pregnant we then see the husband in heaven letting the powers that be know that he was taken too soon and that his wife needs him he is told he can return to earth but not as himself flashforward 19 years where we see shepherd's daughter mary stuart masterson preparing to graduate from college and encountering a young man robert downey jr who it turns out is the reincarnation of her father the film is a little on the predictable side the story goes all the places you expect it to but it is so charmingly played by an energetic cast especially shepherd and downey that you can't help but get wrapped up in the fun shepherd has rarely been seen on screen to better advantage and she and downey are backed by a talented group of character actors in supporting roles a lovely and charming fantasy that will engulf and enchant you\n",
            "<START> shown in australia as 'hydrosphere' this incredibly bad movie is so bad that you become hypnotised and have to watch it to the end just to see if it could get any worse and it does the storyline is so predictable it seems written by a high school dramatics class the sets are pathetic but marginally better than the miniatures and the acting is wooden br br the infant 'muppet' seems to have been stolen from the props cupboard of 'total recall' there didn't seem to be a single original idea in the whole movie br br i found this movie to be so bad that i laughed most of the way through br br malcolm mcdowell should hang his head in shame he obviously needed the money\n",
            "<START> despite some occasionally original touches like the virtual sets that provide the background for the victorian interiors featuring ada lovelace and her circle this film falls short and ultimately disappoints newcomer francesca faridany seems talented but is wasted as emmy a character who by mid film is reduced to nothing more than staring at a monitor watching lady ada narrate an autobiography 'conceiving ada' takes off briefly when lady ada tilda swinton appears the camera lingers on her facial expressions mannerisms even making her appear to be translucent or momentarily invisible apporting into scenes to dramatize emmy's virtual rendering of her br br a straightforward biopic of ada lovelace would have been worthwhile but this film unfortunately makes a hash of both lady ada's life and that of a modern day computer scientist and her broadly drawn doltish boyfriend\n",
            "<START> i hate reading reviews that say something like 'don't waste your time this film stinks on ice ' it does to that reviewer yet for me it may have some sort of naïve charm if you like the other 'whistler' series films this one will be watchable if you like 40s noirish films this one will be watchable br br this film is not as good in my opinion as any of the earlier series entries which starred richard dix as the protagonist it's much slower and the plot is trite you've seen this same narrative device used in many other films and usually better br br but the acting is good and so is the lighting and the dialog it's just lacking in energy and you'll likely figure out exactly what's going on and how it's all going to come out in the end not more than a quarter of the way through br br the 'whistler' series is semi noir and there character mood lighting camera movement and angles are more important than the story itself but this film is not noir it's too light weight and hollywood innocent for that neither richard dix's character nor those of any of his ladies in the previous films had to come to a good end you just never knew until the end br br but still i'll recommend this one for at least a single viewing i've watched it at least twice myself and got a reasonable amount of enjoyment out of it both times\n",
            "<START> the problems with nikhil advani's salaam e ishq are many a one line concept that looks good on paper which also worked in an earlier english film love actually goes terribly wrong thanks to inept and shallow writing a well intentioned idea gets crushed to smithereens under the weight of its own gargantuan ambition a director so completely besotted by his own much applauded first film goes overboard with the devices that worked in his earlier film kal ho na ho try counting the number of times the device of split screens is used in this flick the problem is what worked fabulously in kal ho na ho were the emotional excesses of the karan johar school of film making but here 'emotion' doesn't quite grace us with its appearance on the screen no not even cursorily the writer director gives us 'six relationships with one common problem love' but where is the intensity where is the depth where is the 'emotion' a 'tribute to love' sans emotion and one that goes on and on and on nah it just cannot work br br in my opinion the basic requirement for a portmanteau film like this to work is that not only should each individual story be 'complete' it should in some way or the other follow the graph of the traditional three act structure screen writing guru syd field's paradigm that's the real reason why salaam e ishq didn't work for me none of the stories had any depth or a roller coaster ride of emotional ups and downs one expects in mainstream hindi cinema also the linkage between some of the stories seemed tenuous and very forced it's not clear what salman khan is doing at ayesha takia's wedding if he was required to be present at the wedding scene for a neat wrap up why not conjure a few more coincidences and bring the other two couples also to the wedding that would be neater br br but yes some of the stories did have a lot of promise for one the anil kapoor juhee chawla story tries to address a very real situation mid life crisis but its journey is so linear that you're left wondering if it was really an issue similarly the problem of commitment in the akshaye khanna ayesha takia story is also true to life if only it was developed a little better i felt that the more promising stories in this mish mash were told from the male point of view which is fine but it brings down the emotional quotient of these stories because the female characters juhee chawla and ayesh takia in particular have all the depth of a half filled bath tub wasn't this film supposed to be about '12 different lives' now the actors john abraham still needs to learn acting while vidya balan is dependable and endearing as ever anil kapoor gets a role written just for him but sometimes overplay the boredom of his character since she didn't get a meaty character to portray juhee chawla uses her charming smile and natural acting style to cover up for it akshaye khanna is fine despite going a trifle over the top in a few scenes ayesha takia has nothing much to do but she does remind us that she's the same girl who surprised us with her bravura performance in dor govinda tries to make up for that huge mistake called bhagam bhag and succeeds to a large extent br br that brings me the most irritating track of the film which unpardonably ends up hogging the maximum screen time salman khan and priyanka chopra the track is irritating mainly because of them but i must credit them for their consistency they're consistently bad all through the film priyanka could well be the next queen of hamming i don't buy the crap that her role that of an 'item girl' required her to act over the top somebody should tell her the difference between being flamboyant because the character demands it and downright hamming if you've seen rakhi sawant who seems to be the inspiration behind this role in her interviews and bigg boss you'll know what i mean i strongly feel that if nikhil advani had taken rakhi sawant in this role rather than a bigger star like priyanka the story would have worked better salman khan's phony accent is well shannon esra's hindi is less accented than salman's br br to be fair to the director he does manage to add some good directorial touches to the film i particularly liked the use of grey as the predominant color in the anil kapoor juhee chawla story as a metaphor for their boring existence and the bright colors that come into the story with the arrival of the other woman but will anyone choose to paint their house in varying depressing shades of grey that's acceptable cinematic license i would say but when the film runs almost for 4 hours it almost feels like the director is trying too hard to give the audience a glimpse of his 'touch' in an endlessly meandering montage of uninspiring sequences br br maybe nikhil advani wants us to sit in the theatre for as long as is humanly possible pata nahin kal ho na ho\n",
            "<START> the original demille movie was made in 1938 with frederic march a very good film indeed hollywood's love of remakes brings us a fairly interesting movie starring yul brynner he of course was brilliant as he almost always seemed to be in all of his movies charlton heston as andrew jackson was a stroke of genius however the movie did tend to get a little long in places it does not move at the pace of the 1938 version still it is a fun movie that should be seen at least once\n",
            "<START> this is a very light headed comedy about a wonderful family that has a son called pecker because he use to peck at his food pecker loves to take all kinds of pictures of the people in a small suburb of baltimore md and manages to get the attention of a group of photo art lovers from new york city pecker has a cute sister who goes simply nuts over sugar and is actually an addict taking spoonfuls of sugar from a bag there are scenes of men showing off the lumps in their jockey's with grinding movements and gals doing pretty much the same it is rather hard to keep your mind out of the gutter with this film but who cares it is only a film to give you a few laughs at a simple picture made in 1998\n",
            "<START> the dvd version consists of 2 episodes the parricide of caesar being the juncture in addition the language was spanish without subtitles hence it's hard for me to review in depth this movie because because i didn't understand what was said br br cleopatra being an historic icon the part is very difficult and i found that for a newcomer leonor varela just plays fine she is strong willed but also a very supportive tender soul mate thimothy dalton as caesar is perfect and their romance is the main thing of the first episode so it is not really a documentary nor a peplum but a great love story br br after the parricide a new lover comes marc antoine but the flavor is gone we remember always our first love so i found the second episode dull and their tragic fate isn't told powerfully br br nonetheless the production is luxurious the sets are big tastefully decorated the moroccan live location exotic and the wardrobes splendid the producers have a lot of money for sure but they spend nothing on the special effects they are so poor blue screens ships sphinx that it's funny br br finally i would like very much to hear it in french or english to make a definitive opinion about this two movies\n",
            "<START> we had to go to an appointment so we turned on the dvr to record the ending after it was over i looked at my husband and said do you have a clue he shook his head no i said so you made me watch the end of this movie and i have no clue what just happened he didn't make me but you know br br the movie body itself was quite good there was a lot of suspense it kept you wondering then came the ending the ending was well it just ended you weren't let in on what happened or why right up until the credits i kept thinking something would happen to explain it but it never did so i came here expecting someone figured it out and i just wasn't paying attention nope here four years later i'm just as clueless as tom sawyer was br br i still have no clue what went on i'm just glad i didn't waste any to buy it because i sure would have been mad br br ohhhhh i get it the end of the movie is what disappeared rofl\n",
            "<START> bela lugosi appeared in several of these low budget chillers for monogram studios in the 1940's and the corpse vanishes is one of the better ones br br bela plays a mad scientist who kidnaps young brides and kills them and then extracts fluid from their bodies so he can keep his ageing wife looking young after a reporter and a doctor stay the night at his home and discover he is responsible for the brides' deaths the following morning they report these murders to the police and the mad scientist is shot and drops dead shortly afterwards br br you have got almost everything in this movie the scientist's assistants consist of an old hag a hunchback and dwarf her sons a thunderstorm and spooky passages in bela's house bela and his wife find they sleep better in coffins rather than beds in the movie br br the corpse vanishes is worth a look especially for bela lugosi fans great fun br br rating 3 stars out of 5\n",
            "<START> i have read the book a couple of times and this movie doesn't follow exactly as it should i could let this slide it is after all a movie however i have serious issues with the setting of the movie nobody has seemed to mention that this movie and the book it is based on are based in actual events that happened in nebraska i live in nebraska i grew up in the town that this movie is supposed to be based on first of all the small town that is talked about as the setting is the third largest city in the state with a population of around 50 000 grand island is the largest city between lincoln and denver second the scenery for the movie is wrong grand island is in the platte river valley which is very flat with very few trees i tried watching this movie but it made me mad to see my hometown being treated so bad this was a real event large sections of the city were wiped out in the book they talk about riding bikes from mormon island to fonner park i guess you could if you don't mind a 15 mile ride each way for anyone who wants to know what really happened go here http www theindependent com twisters\n",
            "<START> i caught this at a test screening all i can say is what the hell this movie plays out about as smoothly as mickey mouse reading the script for scarface it's bizarre beyond making the slightest bit of sense and even if you do leave your brain in the car the film is still so bizarre that it isn't even funny br br the plot involves crocodile hunter steve irwin trying to save a crocodile which contains a cia probe the cia comes after irwin to get their probe back irwin mistakes them for poachers and sets out to stop them br br that's about all the story there is the rest is over the top lampooning of australian culture didja see dat and crikey and strangely choreographed action sequences at one point irwin mounts a speeding rv and knife fights with a cia agent on top of it yes that's right steve irwin knife fights a guy on top of an rv let that be your guide for this ridiculously bad film\n",
            "<START> a strong woman oriented subject after long director krishna vamsi's shakti the power the desi version of the hollywood hit not without my daughter is actress sridevi's first home production a story about a woman's fight against harsh injustice br br the story of the film revolves around nandini karisma kapoor who lives in canada with her two uncles tiku talsania jaspal bhatti there she meets shekhar sanjay kapoor falls in love with him and they soon marry their family is complete when nandini has a boy raja master jai gidwani but their happiness is short lived as the news of shekhar's ailing mother deepti naval makes them leave their perfect life in canada and come to india and that's when the problems start from the moment they reach br br india both are shocked to see the pollution and the vast throngs of people everywhere they take a crowded train to reach shekhar's village and when they finally reach the station they have to catch a long bus drive to his village the filthy sweaty bus combined with the uncertain terrain makes it a never ending drive and unfortunately for them a frenzied mob that beat shekhar out of shape for no fault of his attacks their bus fortunately they get shot dead just in time before they can further harm him after that they drive to the handing havel where shekhar''s father narsimha nana patekar lives with his wife deepti naval nandani realized that her father in law is in command as soon as she enters the place but her only solace is her mother in law's warm welcome br br living there nandini learns of her father in laws tyrannical behavior and realizes that ruthless killing is a way of life for him the day she sees her father in law teach her son to throw a bomb she loses it and lashes out against him insisting to shekhar that they move back to canada but terror strikes again when shekhar is murdered one day leaving a broken down nandini alone with her son in this strange land where she is harrowed by a cruel father in law her fight against this man to save her son is what makes up the climax of this emotional heart wrenching film br br what sets apart shakti from most films being made off late is also the rural setting of the movie the only drawback is ismail darbar''s music which fails to rise above the script the only saving grace is the sexy item number ishq kameena which has been composed by anu malik another pat for the director comes because he has extracted some splendid performances from his cast karisma kapoor is the life of the film and has given a moving performance as a helpless mother she is sure to win awards for this heated portrayal second is actor nana patekar who is back with a bang with this film his uncouth mannerisms suit him to the hilt and he's shown his versatility once again with this role sanjay kapoor is the surprise packet of the film with a sincere and effective portrayal that stands up against both the other actors deepti naval too is in top form and her pr climax showdown with nana is praiseworthy shahrukh's cameo provides the lighter moments and surely he's been pulled in to get the required star value though his role was not really required he's done it well overall shakti is a far superior film than most churned out these days and the pr release hype is sure to get it a good opening shakti is sure to get the critics and audience thumps up so what if the film needs to be desperately trimmed by at least 2 reels to better the impact shakti still has the power to go on without a hitch\n",
            "<START> the first episode immediately gave a good impression what to expect from the series mysteries waiting to be solved and a lot of good drama i love the fact that they gradually reveal the stories concerning the characters explaining just enough to stay excited of course this show has some flaws in the first two series there are some characters who for some reason don't show up in the third season many of the characters have a decent sent off but some of them just aren't there like rose and her husband where the hell are they what happened to them maybe they will return in later episodes but it is a little inconsistent that being said lost manages to be thrilling every episode especially the first two seasons that is a very hard thing to do i do notice that in the third season the focus is more on character development than the mystery aspects of the show this is not a bad thing it even saves some episodes from getting boring one of the elements that can be considered the strength of this show are the wonderful characters you will grow to love these characters good or bad but eventually i will want to see some mysteries to be solved and get closure the danger of lost getting canceled due to declining ratings is near and that would be devastating\n",
            "<START> i don't know what it is i find so endearing about this film but the first time i saw it i wanted to see how it ended i'm not a big fan of paul winfield nor of war dramas but i was truly wondering just how and when winfield would find his child all he knows is that the boy has green eyes truth be told i have not seen this movie in years nor has it been shown on tv in a while but this movie is somewhat of one man's odyssey after the pains of war winfield shows a very sympathetic and heart warming portrayal of a man lost by his memories there is an underlying message in this movie that he is looking for the last shred of human morality in the aftermath of this war and the reality that he does confront why this movie is not yet on dvd or video is a mystery to me\n",
            "<START> many have stated that orca  killer whale is a jaws rip off this is not really true though the enormous commercial success of jaws undoubtedly made these man vs beast stories more attractive propositions for film makers in the second half of the '70s orca  killer whale would be better described as a modern day retread of moby dick it's a story about obsession on one hand a whale's obsessive quest to avenge the death of its mate on the other a bounty hunter's obsessive quest to kill the whale before it can claim any more lives sadly orca killer whale emerges a very disappointing film its fundamentally interesting ideas somewhat ruined by hammy performances and preposterous plotting br br shark hunter nolan richard harris encounters a marine life researcher rachel bedford charlotte rampling diving off the atlantic coast of canada their meeting almost ends in disaster when rachel's team are attacked by a great white shark but a killer whale arrives in the nick of time to stop the shark after this nolan becomes increasingly obsessed with capturing a killer whale and selling it to an aquarium but his plans backfire when he accidentally kills a pregnant female of the species while the distraught male looks on rachel tells nolan that a killer whale is an incredibly intelligent mammal with a strong memory and feelings just like a human worse still native umilak will sampson warns him that the whale will always remember its grief and do everything it can to have revenge nolan initially tries to forget about the whole regrettable incident but the whale causes havoc in the fishing town and the disgruntled locals begin to demand that nolan puts to sea to track it down and destroy it eventually nolan is forced to pursue the killer whale the hunt leads all the way to the desolate ice floes of the arctic ocean where man and beast play out their final fatal battle against each other br br two things stand out in this film one is the haunting score by ennio morricone perhaps the greatest composer of film music of all time his talents wasted on various tenth rate clunkers during the 70s and 80s the other is the amazing widescreen photography of ted moore which makes the film consistently pleasing to the eye in every other department orca  killer whale is a shoddy film that does nothing to enhance the reputation of its talented cast and crew harris appears extremely ill throughout the film his hair bedraggled black rings around his eyes and skin deathly pale his performance lacks the usual vitality rampling strikes a lot of sexy poses but fails to convince with her long winded and ill informed explanations about the ways of whales the rest of the actors are wasted in brief and undeveloped roles the most memorable of which sees bo derek getting her leg bitten off by the vengeful whale the plot is total nonsense from start to finish with such preposterous sequences as the whale deliberately starting a fire in the fishing village that engulfs and destroys the local refinery although it's credible to suppose that whales are intelligent creatures with genuine emotions the idea that a whale could plot revenge against a single human adversary and carry it out so calculatedly is utterly absurd orca  killer whale is really one for completists of the man vs beast cycle from the late 70s most will come away from the film shaking their heads in disbelief and grinding their teeth with despair\n",
            "<START> detective tony rome frank sinatra returns to the screen after his self titled debut this time it's a film that's played for ermlaughs while on a diving trip rome finds the body of a blonde beauty at the bottom of the sea her feet as you might expect encased in cement rome immediately on the case after being hired by man mountain waldo gronsky rome finds himself immediately at risk as he has to investigate some mafia types who turn the tables on him and he is himself found to be the main suspect he must now go on the run and hope to solve the case alone the portly sinatra tries hard to sell us the lame jokes and make us believe he is a good detective oh and not to mention being sexually attractive to the foxy raquel welch but he fails miserably in this ham fisted vanity project the frankly laughable denouement that surrounds every female is quite astounding every woman in the film is a dither head who likes bending over is front of the camera director douglas of course obliges in zooming in on the cracks of their asses each time as they flex their posterior muscles there's even a ridiculously campy gay character that beggars belief this was a film made by real men for real men to reaffirm their own flagging sexuality it's a shameful shambles\n",
            "<START> sorry i just didn't find the subject matter as compelling as the filmmaker did the robot guy and the mole rat guy were pretty interesting although morris didn't really tell us much about them the other two subjects were a bore and the supposed connections between them didn't hold up\n",
            "<START> on 24 october 1955 the hard work geologist of the hadley oil company mitch wayne rock hudson meets the executive secretary lucy moore lauren bacall in the office of her boss bill ryan in new york and invites her to go to a conference with the alcoholic playboy and son of a tycoon kyle hadley robert stack on the way of the meeting he confesses that they had traveled from houston to new york to satisfy the wish of the reckless kyle who is his best friend since their childhood of eating a sandwich from club 21 and the meeting was just a pretext to kyle's father jasper hadley robert keith mitch and kyle immediately fall in love for lucy and kyle unsuccessfully uses his money to impress lucy then he opens his heart and proposes lucy they get married and travel to acapulco and the insecure kyle stops drinking meanwhile kyle's sister marylee dorothy malone is an easy woman and has a non corresponded crush on mitch that sees her as a sister one year later kyle discovers that he has a problem and might be sterile and starts drinking again the jealous marylee poisons kyle telling that his wife and mitch are having a love affair when lucy finds that she is pregnant kyle believes that the baby belongs to mitch and his mistrust leads to a tragedy br br written on the wind is an overrated melodramatic soap opera with artificial characters and situations there are at least two great movies with characters with drinking problem the lost weekend 1945 with stunning performance of ray milland and days of wine and roses 1962 with awesome performance of jack lemmon robert stack has a reasonable performance and his character's motives for drinking are shallow and clichés in the end the forgettable written on the wind is entertaining only and never a feature to be nominated to the oscar my vote is seven br br title brazil palavras ao vento words in the wind\n",
            "<START> as with many other pop culture franchise series this line just didn't know when to quit instead of leaving things as they were perfectly ended they went on to generate this the first installment of this franchise to fall sorely short of the mark br br this movie should never have happened it was not intended for there to have been a fourth movie in this line and it sure shows the premise is idiotic and the portrayals were the same br br after the wonderful experience which was the omen this was a major disappointment which stank of 70's cheese and horrible acting it was reminiscent of the amityville horror in those aspects and left a terrible lingering stench long after it was over br br it rates a 1 4 10 from br br the fiend\n",
            "<START> this so called remake is terrible i went to see this tonight on the first day as the anticipation and hype was too much for me to handle but within the first half an hour we knew that this is a disaster it not only does not match the hype created but also insults the original blockbuster the script had loopholes the editing was untidy quite a few times mohanlal who is an excellent actor did an okay job amitabh was alright the director wanted to portray how evil his character is but he went a bit overboard which resulted in it being forceful ajay who is especially smooth in these kind of roles was also a disappointment lets not even get started about the new guy prashant one wouldn't be proud to start off a career with something like this rajpal yadav who was thrown in for a few laughs couldn't even get a smile out of anyone because of his forceful humor and the shrill voice nisha kothari proved that she is one of the worst actresses we have today all in all rgv who i thought was one of the most talented and gifted directors india has had failed miserably he took up such a huge challenge and responsibility to remake what is known as the best hindi movie ever and made a mess out of it\n",
            "<START> this was the third muppet movie and the last one jim henson was around to take part in the making of before his premature death in 1990 the first three films starring the famous characters were all made and released into theatres before i was born i originally saw the first and second installments in the original trilogy the muppet movie and the great muppet caper around the mid nineties as a kid but didn't see this third one the muppets take manhattan until april 2007 this was shortly after i had seen its two predecessors and 1996's muppet treasure island for the first time in many years this third muppet movie definitely didn't disappoint me the first time i saw it and my second viewing nearly three years later may not have impressed me as much but if not it certainly didn't go too far downhill br br the muppets' stage musical manhattan melodies turns out to be a big hit on their college campus they are graduating from college so they will soon be leaving but decide they will all stay together and go to manhattan to try and get their show on broadway after their arrival they begin searching for a producer but after many rejections they finally decide to part and go find jobs most of them leave town but kermit stays and is still determined to find the right producer and reunite the muppet gang he gets a job at a new york restaurant owned by a man named pete the frog quickly befriends pete's daughter jenny an aspiring fashion designer who currently works at her father's restaurant as a waitress as kermit continues his attempts to reach stardom now with the help of jenny he doesn't know that miss piggy has secretly stayed in new york and is now spying on him she begins to see kermit and jenny together and to her it looks like they're getting close which leads to jealousy br br when i saw this movie for the second time it looked disappointing at first it seemed a little rushed unfocused and maybe even forgettable around the beginning there are some funny bits during this part of the film such as animal chasing a woman through the audience on the college campus but for a little while the film seemed bland to me compared to its two predecessors fortunately it wasn't long before that changed the film is entertaining for the most part with saying goodbye the poignant song the muppets sing as they part and a lot that happens after that the two funniest parts might be miss piggy's tantrums after she sees kermit and jenny hugging but there were definitely many other times when i laughed such as poor fozzie trying to hibernate with other bears the muppets still have their charm and comical antics which obviously also helps carry the movie for the most part as does the plot a simple but intriguing one for all ages there are some weaker moments such as the muppet babies sequence and juliana donald's performance as jenny is lacklustre but neither of these problems are too significant and are far from enough to ruin the entire experience br br i would say the muppet movie the film that started the franchise in 1979 is the best of the original trilogy and that seems to be the most popular opinion this third film is probably the weakest of the three but all of them are good unlike muppets from space the third of the theatrical films in the franchise made after henson's sad passing at least the muppets take manhattan is still the muppets i won't go into details about what i think of the muppets' 1999 film released twenty years after their first one since i've already explained in my review of it why i found it so disappointing and even though it does have some appeal i'm clearly not alone however every theatrical movie starring the lovable muppets that was made during henson's life is good entertainment for the whole family even if the second and third installment each showed a slight decline in quality after the one that directly preceded it\n",
            "<START> this film was on late at night when i saw it it was interesting at start but it didn't convince me as a whole i am no tyson fan in fact i don't like boxing at all it's barbaric obscene and double faced by society that some get money for beating each other up br br nevertheless i felt the start of the film was ok actors alright especially george c scott as cus d'amato i don't know how reliable the flick is i haven't read books and books about boxing or tyson i don't know anything about the man but it was quite entertaining br br as the movie went on i felt it lost a little of it's charm and i also lost interest i managed to stay awake though but the last hour was just not good enough\n",
            "<START> warning this review contains spoilers do not read if you don't want some points revealed to you before you watch the film br br with a cast like this you wonder whether or not the actors and actresses knew exactly what they were getting into did they see the script and say hey close encounters of the third kind was such a hit that this one can't fail ' unfortunately it does did they even think to check on the director's credentials i mean would you do a movie with the director of a movie called satan's cheerleaders ' greydon clark who would later go on to direct the infamous final justice ' made this it makes you wonder how the people of mystery science theater 3000 could hammer final justice' and completely miss out on the return ' br br the film is set in a small town in new mexico a little boy and girl are in the street unsupervised one night when a powerful flashlight beam er a spaceship appears and hovers over them in probably the worst special effect sequence of the film the ship spews some kind of red ink on them it looked like clark had held a beaker of water in from of the camera lens and dipped his leaky pen in it so right away you are treated with cheese anyhow the ship leaves and the adults don't believe the children elsewhere we see vincent schiavelli whom i find to be a terrific actor watch his scenes in ghost' for proof as they are outstanding who is playing a prospector or as i called him the miner 1949er he steps out of the cave he is in and he and his dog are inked by the ship twenty five years go by and the girl has grown up to be cybill shepherd who works with her father raymond burr in studying unusual weather phenomena or something like that shepherd spots some strange phenomena in satellite pictures over that little new mexico town and she travels there to research it once she gets there the local ranchers harass her and blame her for the recent slew of cattle mutilations that have been going on and deputy jan michael vincent comes to her rescue from this point on the film really drags as the two quickly fall for each other especially after vincent wards off the locals and informs shepherd that he was the little boy that saw the ship with her twenty five years earlier while this boring mess is happening vincent schiavelli with his killer dog at his side is walking around killing the cattle and any people he runs into with an unusual item you know those glowing plastic sticks stores sell for trick or treaters at halloween the kind that you shake to make them glow schiavelli uses what looks like one of those glow sticks to burn incisions in people it's the second worst effect in the movie every time schiavelli is on screen with the glow stick the scene's atmosphere suddenly turns dark like the filmmakers thought the glow stick needed that enhancement it ends up making the movie look even cheaper than it is br br and what does all this lead up to it's hard to tell when the final confusing scene arrives see burr and his team of scientists try to explain the satellite images that shepherd found as some kind of calling card ' but none of it makes sense why do shepherd and vincent age and schiavelli does not schiavelli explains why he is killing cattle and people and why he wants shepherd dead but even that doesn't make much sense when you really think about it i mean why doesn't he kill jan michael vincent after all he had twenty five years to do it and the aliens won't need him if shepherd is dead anyhow so why try to kill her speaking of the aliens it is never clear what they really wanted out of shepherd and vincent what is their goal why do they wait so long to intervene how could they be so sure shepherd would come back not that the answer to any of these and other questions would have made the return' any more pleasant you would still have bad lines really bad acting particularly by shepherd cheesy effects and poor direction luckily the stars escaped from this movie cybill shepherd soon went on to star in moonlighting' with bruce willis jan michael vincent went on to be featured in dozens of b movies often in over the top parts raymond burr made a pile of perry mason television movies right up until his death vincent schiavelli went on to be a great character actor in a huge number of films martin landau who played a kooky law enforcement officer quickly made the terrific alone in the dark' and the awful the being' before rolling into the films he has been famous for recently you can bet none of these stars ever want their careers to return to the return ' zantara's score 2 out of 10\n",
            "<START> the script for this tv soap opera is so bad that even a hopkins at some point had to play like an undergrad drama student so as to bring some life in his script dead character i do not know whether this was the purpose of the director but hopkins' ciano reeked nothing but vanity fear and lack of self esteem the real ciano possibly was all that but then why make a movie about him mussolini was a bit more convincing and his long way down was as if closer to the truth edda mussolini was plain ridiculous not because of sarandon but because of the impotent script while she had to be the central character of this alleged familial drama watch it only if you enjoy venezuelan soap opera\n",
            "<START> hamlet is by far my favorite of all of shakespeare's works branaugh is one heck of an actor his portrayal of this was just amazing his soliloquies were breathtaking for as long as it was it is rare for a film to hold my interest however i was engrossed in this particular piece i recommend this to anyone both fan of shakespeare and those not so much this has everything the modern world looks for in its films murder betrayal and deceit not to knock mel gibson's version but branaughs touches the whole work this leaves no stone unturned when you finish the film it will feel as if you read the play yourself um how you say two thumbs up\n",
            "<START> in this swimming pool this pond there are water lilies and there are frogs frogs sit on water lilies the frog and water lily have a parasitic relationship marie pauline acquart is a water lily a synchronized swimming groupie with a crush on floraine adele haenel a frog the captain of her team floraine's teammates shun their leader because the preternaturally curvy and well proportioned blonde conveys a loose persona that betrays the syncrhronized swimmer's mindset of conformity and discipline but floraine has a secret the bombshell has a bombshell which naissance des pieuvres reveals to the audience visually before she confides in marie br br floraine has never gone as they say all the way with a boy br br at a party we see a double image of the burgeoning sex bomb checking her make up in a bathroom mirror lolita is a fata morgana marie gets to know floraine's double while her imitation breaks the water lily's heart while the frog goes through the motions of catching flies for appearance's sake she gets chummy with the water lily when no one's looking in the film's most startling scene the water lily agrees to give the frog a hand in losing her virginity through the mechanical act of oral stimulation floraine wants boys to like her but she doesn't like boys seemingly but it's more important to the frog that she's popular when the water lily finally kisses the frog the frog remains a frog the frog can't transform into a water lily or a princess because the water lily lost the frog's respect after their lips unlock floraine tells marie see it's easy which is the frog's way of equating their kiss with the orgasm that her friend gave her as nothing more than a rite of passage without any strings attached floraine's beauty is a burden she carries the weight of meeting boy's expectations florence uses marie to have one final fling before her fata morgana subjugates its imitation into the closet br br the other water lily the other frog marie's best friend anne louise blachere and floraine's frustrated boy toy francois warren jacobs just like any water lily and frog have a parasitic relationship too while floraine uses marie for love francois uses anne for sex but that's life that's the treachery of growing up in which even a friend will turn on a good friend if the opportunity to move up the food chain presents itself at a mcdonalds the water lily chastises the other water lily after bathing extensively in the frog's afterglow physical beauty is a currency marie gets to call the shots because anne although far from being ugly is overweight and has an unflattering hairdo anne tries to fight back by using her breasts as ample retaliation the magnifying glass from her happy meal incidentally comments on marie's flat chest but the tadpole marie thinks she's better than anne better than a water lily points out that her breasts are a byproduct of fat br br teenaged girls can be brutal to each other br br later in the final shot naissance des pieuvres suggests that marie has a double too and this symbiosis among water lilies has the potential to turn parasitic in the near future if it not already has teenaged girls can be brutal to each other in a way that no boy could match\n",
            "<START> police story is arguably one of the best works by the master of action himself compared to other action films police story makes schwarzenegger and stallone look like beginners the stunt scenes are well cheorgraphed and the action scenes are superb if new line cinema has any sense they would release this in theaters\n",
            "<START> sorry but i will spoil both the plot line and the ending for you in hopes of avoiding a holiday fiasco like the one that i now face the father dies and the mother asks santa in a letter to bring him back to the family for christmas and santa does dad is peachy happy healthy and totally unaware of the fact that he had died all ends syrupy sweet br br but as a parent who recently watched my five year old lose his best canine friend it was a horror flick now my son is convinced that all he has to do to bring his buddy back is to ask santa do not underestimate the willpower of a young heart no amount of persuasion will convince him that it was only a movie and that his dog is not coming back for christmas it has been heart breaking to watch his joy only to know that christmas eve he will have to face his loss afresh br br shame on you on behalf of all the believers that have lost a loved one recently it is hard enough to deal with the loss one time for a child but there are some wishes that we shouldn't even portray as a possibility\n",
            "<START> when philo vance edmund lowe is standing precariously on the edge of a balcony high above the city apparently hypnotized and just about to step to his death it immediately reminded me of a nearly identical scene in another film made nine years later the woman in green in which sherlock holmes basil rathbone is similarly about to hurl himself into space while being hypnotized br br happily both philo vance and sherlock holmes survive these attempts at murder by unscrupulous criminals exciting cinematic suspense in both these scenes when will they learn you can't cloud the minds of great fictional detectives\n",
            "<START> i am rarely moved to make these kind of comments but after sitting through most of rankin's dreadful movie i feel like i have really earned the right to say what i feel about it i couldn't actually make it right to the end and became one of the half dozen or more walk outs about 1 3rd of the audience after the ragged plot woeful dialogue and insulting characterisation became just too much to bear this film is all pose and no art all style and no substance it is weighed down by dreadful acting a genuinely dire script indifferent cinematography and student level production values how it got funded started and finished is a mystery to me i bet you a million quid it never goes on general release the proper critics would tear it apart a really bad film shockingly bad a really really really poor effort and that is without even mentioning the gratuitous new born kitten gets dropped into a deep fat fryer moment totally meaningless utterly lightweight poorly put together this movie is a dreadful embarrassment for uk cinema\n"
          ]
        }
      ]
    },
    {
      "cell_type": "code",
      "source": [
        "# SENTIMENT ANALYSIS\n",
        "\n",
        "\n",
        "# 1. All words in embedding format -> from sentence this layer creates a MATRIX\n",
        "\n",
        "# 2. For dense layers, now we need this MATRIX in VECTOR (1-D). 2 approaches are either\n",
        "# flatten it out, or POOLING\n",
        "\n",
        "# pooling is mainly of 2 types- MAX or AVG\n",
        "\n",
        "# 3. For learning, we need fully connected (DENSE) layers. Fully connected layers only work with\n",
        "# 1-D inputs!"
      ],
      "metadata": {
        "id": "feLYSyCclRwK"
      },
      "execution_count": null,
      "outputs": []
    },
    {
      "cell_type": "markdown",
      "source": [
        "Overall model:\n",
        "\n",
        "1. EMBEDDING LAYER -> to convert our words into embeddings [MATRIX]\n",
        "\n",
        "2. Average pooling -> to find out avg vector of all matrix embeddings -> this has now become a LIST! or a vector!\n",
        "\n",
        "\n",
        "[ [ 1, 2, 3], [1,1,1], [2,2,2] ] ---avg---> [2, 1, 2]\n",
        "\n",
        "3. Lists are acceptable for Dense learning!\n",
        "\n",
        "How do we learn? MINIMUM of 3 dense layers!"
      ],
      "metadata": {
        "id": "42svY_AMnzfK"
      }
    },
    {
      "cell_type": "markdown",
      "source": [
        "our final neural network looks like:\n",
        "\n",
        "1. Embedding Layer\n",
        "\n",
        "2. GlobalAveragePooling1D\n",
        "\n",
        "3,4,5: Dense X 3"
      ],
      "metadata": {
        "id": "qz0YnBNyoRID"
      }
    },
    {
      "cell_type": "markdown",
      "source": [
        "I am happy = 1\n",
        "\n",
        "\n",
        "(i , am , happy ) -> ( 1, 1, 1)\n",
        "\n",
        "\n",
        "I am sad = 0\n",
        "\n",
        "(i, am , sad ) -> (0.5, 0.5, 0 )\n",
        "\n",
        "[ i , am , happy, sad ] = [ 0.5, 0.5, 1, 0]\n",
        "\n"
      ],
      "metadata": {
        "id": "TASs1zKLmwuZ"
      }
    },
    {
      "cell_type": "code",
      "source": [
        "model = keras.Sequential([\n",
        "    keras.layers.Embedding(10000, 16, input_length=256),\n",
        "    # 10,000 words broken into 16 dimensions where each sentence is 100 words long!\n",
        "    keras.layers.GlobalAveragePooling1D(),\n",
        "    keras.layers.Dense(16, activation='relu'),\n",
        "    keras.layers.Dense(64, activation='relu'),\n",
        "    keras.layers.Dense(1, activation='sigmoid')\n",
        "                          ])"
      ],
      "metadata": {
        "colab": {
          "base_uri": "https://localhost:8080/"
        },
        "id": "JNDLLAZenMhn",
        "outputId": "c43b5cd4-b859-476a-88f7-d2727e7d30a1"
      },
      "execution_count": 54,
      "outputs": [
        {
          "output_type": "stream",
          "name": "stderr",
          "text": [
            "/usr/local/lib/python3.10/dist-packages/keras/src/layers/core/embedding.py:90: UserWarning: Argument `input_length` is deprecated. Just remove it.\n",
            "  warnings.warn(\n"
          ]
        }
      ]
    },
    {
      "cell_type": "code",
      "source": [
        "len(wordindex)"
      ],
      "metadata": {
        "colab": {
          "base_uri": "https://localhost:8080/"
        },
        "id": "_U280Grpo-uF",
        "outputId": "625af844-3256-4ffc-b1c7-74537fd980a2"
      },
      "execution_count": 49,
      "outputs": [
        {
          "output_type": "execute_result",
          "data": {
            "text/plain": [
              "88584"
            ]
          },
          "metadata": {},
          "execution_count": 49
        }
      ]
    },
    {
      "cell_type": "markdown",
      "source": [
        "currently our network only knows 10000 words, we need to either reduce our dictionary size or increase embedding size!"
      ],
      "metadata": {
        "id": "yondUCbwpMW8"
      }
    },
    {
      "cell_type": "code",
      "source": [
        "# reduce the size of input\n",
        "(xtrain,ytrain), (xtest, ytest) = imdb_dataset.load_data(num_words=10000)\n",
        "# rest everything beyond 10000th index will be marked as <UNKNOWN>!"
      ],
      "metadata": {
        "id": "YzwxE9zwpLi0"
      },
      "execution_count": 52,
      "outputs": []
    },
    {
      "cell_type": "code",
      "source": [
        "# all sentences should have same length!\n",
        "for i in range(10):\n",
        "  print(len(xtrain[i]))"
      ],
      "metadata": {
        "colab": {
          "base_uri": "https://localhost:8080/"
        },
        "id": "vuv00k9GpGnb",
        "outputId": "5a60cfb8-d299-4e97-9160-633f76195173"
      },
      "execution_count": 53,
      "outputs": [
        {
          "output_type": "stream",
          "name": "stdout",
          "text": [
            "218\n",
            "189\n",
            "141\n",
            "550\n",
            "147\n",
            "43\n",
            "123\n",
            "562\n",
            "233\n",
            "130\n"
          ]
        }
      ]
    },
    {
      "cell_type": "code",
      "source": [
        "xtrain_mod = keras.preprocessing.sequence.pad_sequences(xtrain,\n",
        "                                                        value=0,\n",
        "                                                        padding='post',\n",
        "                                                        truncating='post',\n",
        "                                                        maxlen=256)\n",
        "xtest_mod = keras.preprocessing.sequence.pad_sequences(xtest,\n",
        "                                                        value=0,\n",
        "                                                        padding='post',\n",
        "                                                        truncating='post',\n",
        "                                                        maxlen=256)"
      ],
      "metadata": {
        "id": "cMbL3OIbp2jb"
      },
      "execution_count": 56,
      "outputs": []
    },
    {
      "cell_type": "code",
      "source": [
        "for i in range(10,50):\n",
        "  print(decoder(xtrain_mod[i]))"
      ],
      "metadata": {
        "colab": {
          "base_uri": "https://localhost:8080/"
        },
        "id": "7Ogr7t7AqUL-",
        "outputId": "36e4e4fa-e224-4eef-e282-f01f5411b301"
      },
      "execution_count": 57,
      "outputs": [
        {
          "output_type": "stream",
          "name": "stdout",
          "text": [
            "<START> french horror cinema has seen something of a revival over the last couple of years with great films such as inside and <UNK> romance <UNK> on to the scene <UNK> <UNK> the revival just slightly but stands head and shoulders over most modern horror titles and is surely one of the best french horror films ever made <UNK> was obviously shot on a low budget but this is made up for in far more ways than one by the originality of the film and this in turn is <UNK> by the excellent writing and acting that ensure the film is a winner the plot focuses on two main ideas prison and black magic the central character is a man named <UNK> sent to prison for fraud he is put in a cell with three others the quietly insane <UNK> body building <UNK> marcus and his retarded boyfriend daisy after a short while in the cell together they stumble upon a hiding place in the wall that contains an old <UNK> after <UNK> part of it they soon realise its magical powers and realise they may be able to use it to break through the prison walls br br black magic is a very interesting topic and i'm actually quite surprised that there aren't more films based on it as there's so much scope for things to do with it it's fair to say that <UNK> makes the best of it's <UNK> as despite it's <UNK> the film never actually feels restrained and manages to flow\n",
            "<START> when i rented this movie i had very low expectations but when i saw it i realized that the movie was less a lot less than what i expected the actors were bad the doctor's wife was one of the worst the story was so stupid it could work for a disney movie except for the murders but this one is not a comedy it is a laughable masterpiece of stupidity the title is well chosen except for one thing they could add stupid movie after dead husbands i give it 0 and a half out of 5 <PAD> <PAD> <PAD> <PAD> <PAD> <PAD> <PAD> <PAD> <PAD> <PAD> <PAD> <PAD> <PAD> <PAD> <PAD> <PAD> <PAD> <PAD> <PAD> <PAD> <PAD> <PAD> <PAD> <PAD> <PAD> <PAD> <PAD> <PAD> <PAD> <PAD> <PAD> <PAD> <PAD> <PAD> <PAD> <PAD> <PAD> <PAD> <PAD> <PAD> <PAD> <PAD> <PAD> <PAD> <PAD> <PAD> <PAD> <PAD> <PAD> <PAD> <PAD> <PAD> <PAD> <PAD> <PAD> <PAD> <PAD> <PAD> <PAD> <PAD> <PAD> <PAD> <PAD> <PAD> <PAD> <PAD> <PAD> <PAD> <PAD> <PAD> <PAD> <PAD> <PAD> <PAD> <PAD> <PAD> <PAD> <PAD> <PAD> <PAD> <PAD> <PAD> <PAD> <PAD> <PAD> <PAD> <PAD> <PAD> <PAD> <PAD> <PAD> <PAD> <PAD> <PAD> <PAD> <PAD> <PAD> <PAD> <PAD> <PAD> <PAD> <PAD> <PAD> <PAD> <PAD> <PAD> <PAD> <PAD> <PAD> <PAD> <PAD> <PAD> <PAD> <PAD> <PAD> <PAD> <PAD> <PAD> <PAD> <PAD> <PAD> <PAD> <PAD> <PAD> <PAD> <PAD> <PAD> <PAD> <PAD> <PAD> <PAD> <PAD> <PAD> <PAD> <PAD> <PAD> <PAD> <PAD> <PAD> <PAD> <PAD> <PAD> <PAD> <PAD> <PAD> <PAD> <PAD> <PAD> <PAD> <PAD> <PAD> <PAD> <PAD> <PAD> <PAD> <PAD> <PAD>\n",
            "<START> i love cheesy horror flicks i don't care if the acting is sub par or whether the monsters look corny i liked this movie except for the <UNK> feeling all the way from the beginning of the film to the very end look i don't need a 10 page <UNK> or a sign with big letters explaining a plot to me but dark floors takes the what is this movie about thing to a whole new annoying level what is this movie about br br this isn't exceptionally scary or thrilling but if you have an hour and a half to kill and or you want to end up feeling frustrated and confused rent this winner <PAD> <PAD> <PAD> <PAD> <PAD> <PAD> <PAD> <PAD> <PAD> <PAD> <PAD> <PAD> <PAD> <PAD> <PAD> <PAD> <PAD> <PAD> <PAD> <PAD> <PAD> <PAD> <PAD> <PAD> <PAD> <PAD> <PAD> <PAD> <PAD> <PAD> <PAD> <PAD> <PAD> <PAD> <PAD> <PAD> <PAD> <PAD> <PAD> <PAD> <PAD> <PAD> <PAD> <PAD> <PAD> <PAD> <PAD> <PAD> <PAD> <PAD> <PAD> <PAD> <PAD> <PAD> <PAD> <PAD> <PAD> <PAD> <PAD> <PAD> <PAD> <PAD> <PAD> <PAD> <PAD> <PAD> <PAD> <PAD> <PAD> <PAD> <PAD> <PAD> <PAD> <PAD> <PAD> <PAD> <PAD> <PAD> <PAD> <PAD> <PAD> <PAD> <PAD> <PAD> <PAD> <PAD> <PAD> <PAD> <PAD> <PAD> <PAD> <PAD> <PAD> <PAD> <PAD> <PAD> <PAD> <PAD> <PAD> <PAD> <PAD> <PAD> <PAD> <PAD> <PAD> <PAD> <PAD> <PAD> <PAD> <PAD> <PAD> <PAD> <PAD> <PAD> <PAD> <PAD> <PAD> <PAD> <PAD> <PAD> <PAD> <PAD> <PAD> <PAD> <PAD> <PAD> <PAD> <PAD> <PAD> <PAD> <PAD> <PAD> <PAD> <PAD> <PAD> <PAD> <PAD> <PAD> <PAD>\n",
            "<START> anyone who could find redeeming value in this piece of crap ought to have their head examined we have the <UNK> heroin addicted part time hooker wife with <UNK> all over her body <UNK> received from repeated <UNK> by an abusive son now she is <UNK> breast milk all over the kitchen floor the release so gained somehow akin to helen <UNK> placing her hands in running water we have the husband who starts out by <UNK> a prostitute who just happens to be his daughter she's upset with him because he came too quickly and ends by murdering his female colleague having sex with her corpse and then <UNK> her up we have the kid who is relentlessly <UNK> by his classmates and who comes home and beats his mom you see it's all <UNK> deep huh the only decent moment in this horrendous pile of tripe is when the dad murders his son's <UNK> it's a good thing this turkey was shot on video because otherwise what a waste of expensive film it would be if that guy who thinks artists ought to be interested in this <UNK> is really serious no wonder most people think artists are insane we saw this lousy movie then put on zero woman the accused oh my god it was a <UNK> as to which one was worse what is going on in japan these days sick sick sick <PAD> <PAD> <PAD> <PAD> <PAD> <PAD> <PAD> <PAD> <PAD> <PAD> <PAD> <PAD> <PAD> <PAD> <PAD> <PAD> <PAD> <PAD>\n",
            "<START> b movie at best sound effects are pretty good lame concept decent execution i suppose it's a rental br br you put some <UNK> oil in your mouth to save you from de poison <UNK> you cut de bite and suck out de <UNK> you gonna be ok tommy br br you stay by the <UNK> when agent harris calls you get me give me a fire <UNK> br br weapons we need weapons where's the <UNK> all we have is this <UNK> br br dr price is the snake expert br br local <UNK> can handle the occasional <UNK> alert every er in the <UNK> city area <PAD> <PAD> <PAD> <PAD> <PAD> <PAD> <PAD> <PAD> <PAD> <PAD> <PAD> <PAD> <PAD> <PAD> <PAD> <PAD> <PAD> <PAD> <PAD> <PAD> <PAD> <PAD> <PAD> <PAD> <PAD> <PAD> <PAD> <PAD> <PAD> <PAD> <PAD> <PAD> <PAD> <PAD> <PAD> <PAD> <PAD> <PAD> <PAD> <PAD> <PAD> <PAD> <PAD> <PAD> <PAD> <PAD> <PAD> <PAD> <PAD> <PAD> <PAD> <PAD> <PAD> <PAD> <PAD> <PAD> <PAD> <PAD> <PAD> <PAD> <PAD> <PAD> <PAD> <PAD> <PAD> <PAD> <PAD> <PAD> <PAD> <PAD> <PAD> <PAD> <PAD> <PAD> <PAD> <PAD> <PAD> <PAD> <PAD> <PAD> <PAD> <PAD> <PAD> <PAD> <PAD> <PAD> <PAD> <PAD> <PAD> <PAD> <PAD> <PAD> <PAD> <PAD> <PAD> <PAD> <PAD> <PAD> <PAD> <PAD> <PAD> <PAD> <PAD> <PAD> <PAD> <PAD> <PAD> <PAD> <PAD> <PAD> <PAD> <PAD> <PAD> <PAD> <PAD> <PAD> <PAD> <PAD> <PAD> <PAD> <PAD> <PAD> <PAD> <PAD> <PAD> <PAD> <PAD> <PAD> <PAD> <PAD> <PAD> <PAD> <PAD> <PAD> <PAD> <PAD> <PAD> <PAD> <PAD> <PAD> <PAD> <PAD> <PAD> <PAD> <PAD> <PAD> <PAD>\n",
            "<START> a total waste of time just throw in a few explosions non stop fighting exotic cars a deranged millionaire slow motion computer generated car crashes and last but not least a hugh <UNK> like character with wall to wall hot babes and mix in a <UNK> and you will have this sorry excuse for a movie i really got a laugh out of the dr evil like heavily <UNK> compound the plot was somewhere between preposterous and non existent how many <UNK> are willing to make a 25 million dollar bet on a car race answer 4 but didn't they become <UNK> through <UNK> responsibility this was written for <UNK> males it plays like a video game i did enjoy the <UNK> ii landing in the desert though <PAD> <PAD> <PAD> <PAD> <PAD> <PAD> <PAD> <PAD> <PAD> <PAD> <PAD> <PAD> <PAD> <PAD> <PAD> <PAD> <PAD> <PAD> <PAD> <PAD> <PAD> <PAD> <PAD> <PAD> <PAD> <PAD> <PAD> <PAD> <PAD> <PAD> <PAD> <PAD> <PAD> <PAD> <PAD> <PAD> <PAD> <PAD> <PAD> <PAD> <PAD> <PAD> <PAD> <PAD> <PAD> <PAD> <PAD> <PAD> <PAD> <PAD> <PAD> <PAD> <PAD> <PAD> <PAD> <PAD> <PAD> <PAD> <PAD> <PAD> <PAD> <PAD> <PAD> <PAD> <PAD> <PAD> <PAD> <PAD> <PAD> <PAD> <PAD> <PAD> <PAD> <PAD> <PAD> <PAD> <PAD> <PAD> <PAD> <PAD> <PAD> <PAD> <PAD> <PAD> <PAD> <PAD> <PAD> <PAD> <PAD> <PAD> <PAD> <PAD> <PAD> <PAD> <PAD> <PAD> <PAD> <PAD> <PAD> <PAD> <PAD> <PAD> <PAD> <PAD> <PAD> <PAD> <PAD> <PAD> <PAD> <PAD> <PAD> <PAD> <PAD> <PAD> <PAD> <PAD> <PAD> <PAD> <PAD> <PAD> <PAD> <PAD> <PAD> <PAD> <PAD> <PAD> <PAD>\n",
            "<START> laputa castle in the sky is the bomb the message is as strong as his newer works and more pure fantastic and flying pirates how could it be any better the art is totally amazing and the soundtrack which is <UNK> many times after this im not sure if this was the first time i heard it and evokes in me the most emotional sentimental response of any movie soundtrack <UNK> the female lead in this movie is totally awesome and the boy <UNK> is also a great role model he lives on his own the plot is classic miyazaki i won't give it away but the end is really great i rank this as one of miyazaki's three best with <UNK> and spirited away also you may want to check out <UNK> moving castle when it comes out sometime next year i hope if you like miyazaki check this one out as it readily available in the usa enjoy <UNK> a <PAD> <PAD> <PAD> <PAD> <PAD> <PAD> <PAD> <PAD> <PAD> <PAD> <PAD> <PAD> <PAD> <PAD> <PAD> <PAD> <PAD> <PAD> <PAD> <PAD> <PAD> <PAD> <PAD> <PAD> <PAD> <PAD> <PAD> <PAD> <PAD> <PAD> <PAD> <PAD> <PAD> <PAD> <PAD> <PAD> <PAD> <PAD> <PAD> <PAD> <PAD> <PAD> <PAD> <PAD> <PAD> <PAD> <PAD> <PAD> <PAD> <PAD> <PAD> <PAD> <PAD> <PAD> <PAD> <PAD> <PAD> <PAD> <PAD> <PAD> <PAD> <PAD> <PAD> <PAD> <PAD> <PAD> <PAD> <PAD> <PAD> <PAD> <PAD> <PAD> <PAD> <PAD> <PAD> <PAD> <PAD> <PAD> <PAD> <PAD> <PAD> <PAD> <PAD> <PAD> <PAD> <PAD> <PAD> <PAD> <PAD> <PAD> <PAD> <PAD> <PAD>\n",
            "<START> at the height of the <UNK> big <UNK> racism row in 2007 involving <UNK> <UNK> and the late <UNK> <UNK> i condemned on an internet forum those <UNK> b b ' fans who praised the show after years of bashing <UNK> <UNK> sitcoms such as <UNK> <UNK> <UNK> <UNK> <UNK> i thought they were being <UNK> and said so <UNK> ain't half hot <UNK> was then thrown into the argument with some pointing out it had starred an english actor <UNK> up well yes but michael bates had lived in india as a boy and spoke <UNK> <UNK> the show's <UNK> overlook the reality he brought to his performance as <UNK> <UNK> <UNK> the noted indian character actor <UNK> <UNK> said in a 1995 documentary <UNK> <UNK> the <UNK> that he was upset when he heard bates had landed the role but added no indian actor could have played that role as well as bates indeed br br <UNK> was perry and <UNK> companion show to <UNK> <UNK> also set in wartime the <UNK> english town of <UNK> on sea had been replaced by the hot steamy <UNK> of india in particularly a place called <UNK> where an army concert party puts on shows for the troops among them <UNK> <UNK> george <UNK> his first sitcom role since <UNK> in <UNK> camp <UNK> <UNK> <UNK> melvyn hayes <UNK> <UNK> <UNK> <UNK> <UNK> de <UNK> <UNK> graham john <UNK> and <UNK> <UNK> the late christopher mitchell <UNK> over this gang of <UNK> was the <UNK> sergeant\n",
            "<START> i have only had the luxury of seeing this movie once when i was rather young so much of the movie is <UNK> in trying to remember it however i can say it was not as funny as a movie called killer tomatoes should have been and the most memorable things from this movie are the song and the scene with the elderly couple talking about poor timmy other than that the movie is really just scenes of little tomatoes and big tomatoes rolling around and people acting scared and overacting as people should do in a movie of this type however just having a very silly premise and a catchy theme song do not a good comedy make granted this movie is supposed to be a b movie nothing to be taken seriously however you should still make jokes that are funny and not try to <UNK> a mildly amusing premise into a full <UNK> movie perhaps a short would have been fine as the trailer showing the elderly couple mentioned above and a man desperately trying to gun down a larger <UNK> was actually pretty good the trailer itself looked like a mock trailer but no they indeed made a full movie and a rather weak one at that <PAD> <PAD> <PAD> <PAD> <PAD> <PAD> <PAD> <PAD> <PAD> <PAD> <PAD> <PAD> <PAD> <PAD> <PAD> <PAD> <PAD> <PAD> <PAD> <PAD> <PAD> <PAD> <PAD> <PAD> <PAD> <PAD> <PAD> <PAD> <PAD> <PAD> <PAD> <PAD> <PAD> <PAD> <PAD> <PAD> <PAD> <PAD> <PAD> <PAD> <PAD> <PAD> <PAD> <PAD>\n",
            "<START> chances are is a charming romantic fantasy about a woman <UNK> shepherd whose husband christopher <UNK> is killed shortly after learning she is pregnant we then see the husband in heaven letting the powers that be know that he was taken too soon and that his wife needs him he is told he can return to earth but not as himself <UNK> 19 years where we see <UNK> daughter mary stuart masterson preparing to graduate from college and <UNK> a young man robert downey jr who it turns out is the reincarnation of her father the film is a little on the predictable side the story goes all the places you expect it to but it is so <UNK> played by an energetic cast especially shepherd and downey that you can't help but get wrapped up in the fun shepherd has rarely been seen on screen to better advantage and she and downey are backed by a talented group of character actors in supporting roles a lovely and charming fantasy that will <UNK> and <UNK> you <PAD> <PAD> <PAD> <PAD> <PAD> <PAD> <PAD> <PAD> <PAD> <PAD> <PAD> <PAD> <PAD> <PAD> <PAD> <PAD> <PAD> <PAD> <PAD> <PAD> <PAD> <PAD> <PAD> <PAD> <PAD> <PAD> <PAD> <PAD> <PAD> <PAD> <PAD> <PAD> <PAD> <PAD> <PAD> <PAD> <PAD> <PAD> <PAD> <PAD> <PAD> <PAD> <PAD> <PAD> <PAD> <PAD> <PAD> <PAD> <PAD> <PAD> <PAD> <PAD> <PAD> <PAD> <PAD> <PAD> <PAD> <PAD> <PAD> <PAD> <PAD> <PAD> <PAD> <PAD> <PAD> <PAD> <PAD> <PAD> <PAD> <PAD> <PAD> <PAD> <PAD> <PAD> <PAD> <PAD> <PAD> <PAD> <PAD>\n",
            "<START> shown in australia as <UNK> this incredibly bad movie is so bad that you become <UNK> and have to watch it to the end just to see if it could get any worse and it does the storyline is so predictable it seems written by a high school <UNK> class the sets are pathetic but <UNK> better than the <UNK> and the acting is wooden br br the <UNK> <UNK> seems to have been stolen from the props <UNK> of <UNK> <UNK> there didn't seem to be a single original idea in the whole movie br br i found this movie to be so bad that i laughed most of the way through br br malcolm mcdowell should hang his head in shame he obviously needed the money <PAD> <PAD> <PAD> <PAD> <PAD> <PAD> <PAD> <PAD> <PAD> <PAD> <PAD> <PAD> <PAD> <PAD> <PAD> <PAD> <PAD> <PAD> <PAD> <PAD> <PAD> <PAD> <PAD> <PAD> <PAD> <PAD> <PAD> <PAD> <PAD> <PAD> <PAD> <PAD> <PAD> <PAD> <PAD> <PAD> <PAD> <PAD> <PAD> <PAD> <PAD> <PAD> <PAD> <PAD> <PAD> <PAD> <PAD> <PAD> <PAD> <PAD> <PAD> <PAD> <PAD> <PAD> <PAD> <PAD> <PAD> <PAD> <PAD> <PAD> <PAD> <PAD> <PAD> <PAD> <PAD> <PAD> <PAD> <PAD> <PAD> <PAD> <PAD> <PAD> <PAD> <PAD> <PAD> <PAD> <PAD> <PAD> <PAD> <PAD> <PAD> <PAD> <PAD> <PAD> <PAD> <PAD> <PAD> <PAD> <PAD> <PAD> <PAD> <PAD> <PAD> <PAD> <PAD> <PAD> <PAD> <PAD> <PAD> <PAD> <PAD> <PAD> <PAD> <PAD> <PAD> <PAD> <PAD> <PAD> <PAD> <PAD> <PAD> <PAD> <PAD> <PAD> <PAD> <PAD> <PAD> <PAD> <PAD> <PAD> <PAD> <PAD> <PAD> <PAD> <PAD> <PAD> <PAD>\n",
            "<START> despite some occasionally original touches like the virtual sets that provide the background for the victorian interiors featuring <UNK> <UNK> and her circle this film falls short and ultimately disappoints newcomer <UNK> <UNK> seems talented but is wasted as emmy a character who by mid film is reduced to nothing more than staring at a <UNK> watching lady <UNK> <UNK> an autobiography <UNK> <UNK> takes off briefly when lady <UNK> <UNK> <UNK> appears the camera <UNK> on her facial expressions mannerisms even making her appear to be <UNK> or <UNK> invisible <UNK> into scenes to <UNK> <UNK> virtual rendering of her br br a straightforward biopic of <UNK> <UNK> would have been worthwhile but this film unfortunately makes a <UNK> of both lady <UNK> life and that of a modern day computer scientist and her <UNK> drawn <UNK> boyfriend <PAD> <PAD> <PAD> <PAD> <PAD> <PAD> <PAD> <PAD> <PAD> <PAD> <PAD> <PAD> <PAD> <PAD> <PAD> <PAD> <PAD> <PAD> <PAD> <PAD> <PAD> <PAD> <PAD> <PAD> <PAD> <PAD> <PAD> <PAD> <PAD> <PAD> <PAD> <PAD> <PAD> <PAD> <PAD> <PAD> <PAD> <PAD> <PAD> <PAD> <PAD> <PAD> <PAD> <PAD> <PAD> <PAD> <PAD> <PAD> <PAD> <PAD> <PAD> <PAD> <PAD> <PAD> <PAD> <PAD> <PAD> <PAD> <PAD> <PAD> <PAD> <PAD> <PAD> <PAD> <PAD> <PAD> <PAD> <PAD> <PAD> <PAD> <PAD> <PAD> <PAD> <PAD> <PAD> <PAD> <PAD> <PAD> <PAD> <PAD> <PAD> <PAD> <PAD> <PAD> <PAD> <PAD> <PAD> <PAD> <PAD> <PAD> <PAD> <PAD> <PAD> <PAD> <PAD> <PAD> <PAD> <PAD> <PAD> <PAD> <PAD> <PAD> <PAD> <PAD> <PAD> <PAD> <PAD> <PAD> <PAD> <PAD> <PAD> <PAD> <PAD> <PAD> <PAD> <PAD>\n",
            "<START> i hate reading reviews that say something like <UNK> waste your time this film stinks on ice ' it does to that reviewer yet for me it may have some sort of <UNK> charm if you like the other <UNK> series films this one will be watchable if you like 40s <UNK> films this one will be watchable br br this film is not as good in my opinion as any of the earlier series entries which starred richard <UNK> as the protagonist it's much slower and the plot is trite you've seen this same narrative device used in many other films and usually better br br but the acting is good and so is the lighting and the dialog it's just lacking in energy and you'll likely figure out exactly what's going on and how it's all going to come out in the end not more than a quarter of the way through br br the <UNK> series is semi noir and there character mood lighting camera movement and angles are more important than the story itself but this film is not noir it's too light weight and hollywood innocent for that neither richard <UNK> character nor those of any of his ladies in the previous films had to come to a good end you just never knew until the end br br but still i'll recommend this one for at least a single viewing i've watched it at least twice myself and got a reasonable amount of enjoyment out of it both times\n",
            "<START> the problems with <UNK> <UNK> <UNK> e <UNK> are many a one line concept that looks good on paper which also worked in an earlier english film love actually goes terribly wrong thanks to inept and shallow writing a well <UNK> idea gets crushed to <UNK> under the weight of its own <UNK> ambition a director so completely <UNK> by his own much <UNK> first film goes overboard with the devices that worked in his earlier film <UNK> ho <UNK> ho try counting the number of times the device of split screens is used in this flick the problem is what worked <UNK> in <UNK> ho <UNK> ho were the emotional <UNK> of the <UNK> <UNK> school of film making but here <UNK> doesn't quite grace us with its appearance on the screen no not even <UNK> the writer director gives us <UNK> relationships with one common problem <UNK> but where is the intensity where is the depth where is the <UNK> a <UNK> to <UNK> sans emotion and one that goes on and on and on <UNK> it just cannot work br br in my opinion the basic <UNK> for a <UNK> film like this to work is that not only should each individual story be <UNK> it should in some way or the other follow the <UNK> of the traditional three act structure screen writing guru <UNK> <UNK> <UNK> that's the real reason why <UNK> e <UNK> didn't work for me none of the stories had any depth or a roller coaster ride\n",
            "<START> the original demille movie was made in 1938 with <UNK> march a very good film indeed hollywood's love of remakes brings us a fairly interesting movie starring <UNK> <UNK> he of course was brilliant as he almost always seemed to be in all of his movies charlton heston as andrew jackson was a stroke of genius however the movie did tend to get a little long in places it does not move at the pace of the 1938 version still it is a fun movie that should be seen at least once <PAD> <PAD> <PAD> <PAD> <PAD> <PAD> <PAD> <PAD> <PAD> <PAD> <PAD> <PAD> <PAD> <PAD> <PAD> <PAD> <PAD> <PAD> <PAD> <PAD> <PAD> <PAD> <PAD> <PAD> <PAD> <PAD> <PAD> <PAD> <PAD> <PAD> <PAD> <PAD> <PAD> <PAD> <PAD> <PAD> <PAD> <PAD> <PAD> <PAD> <PAD> <PAD> <PAD> <PAD> <PAD> <PAD> <PAD> <PAD> <PAD> <PAD> <PAD> <PAD> <PAD> <PAD> <PAD> <PAD> <PAD> <PAD> <PAD> <PAD> <PAD> <PAD> <PAD> <PAD> <PAD> <PAD> <PAD> <PAD> <PAD> <PAD> <PAD> <PAD> <PAD> <PAD> <PAD> <PAD> <PAD> <PAD> <PAD> <PAD> <PAD> <PAD> <PAD> <PAD> <PAD> <PAD> <PAD> <PAD> <PAD> <PAD> <PAD> <PAD> <PAD> <PAD> <PAD> <PAD> <PAD> <PAD> <PAD> <PAD> <PAD> <PAD> <PAD> <PAD> <PAD> <PAD> <PAD> <PAD> <PAD> <PAD> <PAD> <PAD> <PAD> <PAD> <PAD> <PAD> <PAD> <PAD> <PAD> <PAD> <PAD> <PAD> <PAD> <PAD> <PAD> <PAD> <PAD> <PAD> <PAD> <PAD> <PAD> <PAD> <PAD> <PAD> <PAD> <PAD> <PAD> <PAD> <PAD> <PAD> <PAD> <PAD> <PAD> <PAD> <PAD> <PAD> <PAD> <PAD> <PAD> <PAD> <PAD> <PAD> <PAD> <PAD> <PAD> <PAD> <PAD> <PAD> <PAD> <PAD> <PAD> <PAD> <PAD>\n",
            "<START> this is a very light headed comedy about a wonderful family that has a son called pecker because he use to peck at his food pecker loves to take all kinds of pictures of the people in a small <UNK> of <UNK> <UNK> and manages to get the attention of a group of photo art lovers from new york city pecker has a cute sister who goes simply nuts over sugar and is actually an addict taking <UNK> of sugar from a bag there are scenes of men showing off the <UNK> in their <UNK> with <UNK> movements and <UNK> doing pretty much the same it is rather hard to keep your mind out of the <UNK> with this film but who cares it is only a film to give you a few laughs at a simple picture made in 1998 <PAD> <PAD> <PAD> <PAD> <PAD> <PAD> <PAD> <PAD> <PAD> <PAD> <PAD> <PAD> <PAD> <PAD> <PAD> <PAD> <PAD> <PAD> <PAD> <PAD> <PAD> <PAD> <PAD> <PAD> <PAD> <PAD> <PAD> <PAD> <PAD> <PAD> <PAD> <PAD> <PAD> <PAD> <PAD> <PAD> <PAD> <PAD> <PAD> <PAD> <PAD> <PAD> <PAD> <PAD> <PAD> <PAD> <PAD> <PAD> <PAD> <PAD> <PAD> <PAD> <PAD> <PAD> <PAD> <PAD> <PAD> <PAD> <PAD> <PAD> <PAD> <PAD> <PAD> <PAD> <PAD> <PAD> <PAD> <PAD> <PAD> <PAD> <PAD> <PAD> <PAD> <PAD> <PAD> <PAD> <PAD> <PAD> <PAD> <PAD> <PAD> <PAD> <PAD> <PAD> <PAD> <PAD> <PAD> <PAD> <PAD> <PAD> <PAD> <PAD> <PAD> <PAD> <PAD> <PAD> <PAD> <PAD> <PAD> <PAD> <PAD> <PAD> <PAD> <PAD> <PAD> <PAD> <PAD> <PAD> <PAD> <PAD> <PAD> <PAD> <PAD> <PAD>\n",
            "<START> the dvd version consists of 2 episodes the <UNK> of <UNK> being the <UNK> in addition the language was spanish without subtitles hence it's hard for me to review in depth this movie because because i didn't understand what was said br br <UNK> being an historic icon the part is very difficult and i found that for a newcomer <UNK> <UNK> just plays fine she is strong <UNK> but also a very supportive tender soul mate <UNK> dalton as <UNK> is perfect and their romance is the main thing of the first episode so it is not really a documentary nor a <UNK> but a great love story br br after the <UNK> a new lover comes marc <UNK> but the flavor is gone we remember always our first love so i found the second episode dull and their tragic fate isn't told <UNK> br br nonetheless the production is <UNK> the sets are big <UNK> <UNK> the <UNK> live location exotic and the <UNK> splendid the producers have a lot of money for sure but they spend nothing on the special effects they are so poor blue screens ships <UNK> that it's funny br br finally i would like very much to hear it in french or english to make a definitive opinion about this two movies <PAD> <PAD> <PAD> <PAD> <PAD> <PAD> <PAD> <PAD> <PAD> <PAD> <PAD> <PAD> <PAD> <PAD> <PAD> <PAD> <PAD> <PAD> <PAD> <PAD> <PAD> <PAD> <PAD> <PAD> <PAD> <PAD> <PAD> <PAD> <PAD> <PAD> <PAD> <PAD> <PAD> <PAD> <PAD> <PAD>\n",
            "<START> we had to go to an <UNK> so we turned on the <UNK> to record the ending after it was over i looked at my husband and said do you have a clue he <UNK> his head no i said so you made me watch the end of this movie and i have no clue what just happened he didn't make me but you know br br the movie body itself was quite good there was a lot of suspense it kept you wondering then came the ending the ending was well it just ended you weren't let in on what happened or why right up until the credits i kept thinking something would happen to explain it but it never did so i came here expecting someone figured it out and i just wasn't paying attention nope here four years later i'm just as clueless as tom <UNK> was br br i still have no clue what went on i'm just glad i didn't waste any to buy it because i sure would have been mad br br <UNK> i get it the end of the movie is what disappeared <UNK> <PAD> <PAD> <PAD> <PAD> <PAD> <PAD> <PAD> <PAD> <PAD> <PAD> <PAD> <PAD> <PAD> <PAD> <PAD> <PAD> <PAD> <PAD> <PAD> <PAD> <PAD> <PAD> <PAD> <PAD> <PAD> <PAD> <PAD> <PAD> <PAD> <PAD> <PAD> <PAD> <PAD> <PAD> <PAD> <PAD> <PAD> <PAD> <PAD> <PAD> <PAD> <PAD> <PAD> <PAD> <PAD> <PAD> <PAD> <PAD> <PAD> <PAD> <PAD> <PAD> <PAD> <PAD> <PAD> <PAD> <PAD> <PAD> <PAD> <PAD> <PAD> <PAD> <PAD>\n",
            "<START> bela lugosi appeared in several of these low budget <UNK> for <UNK> studios in the 1940's and the corpse <UNK> is one of the better ones br br bela plays a mad scientist who kidnaps young brides and kills them and then <UNK> fluid from their bodies so he can keep his <UNK> wife looking young after a reporter and a doctor stay the night at his home and discover he is responsible for the <UNK> deaths the following morning they report these murders to the police and the mad scientist is shot and drops dead shortly afterwards br br you have got almost everything in this movie the <UNK> <UNK> consist of an old <UNK> a <UNK> and dwarf her sons a <UNK> and spooky <UNK> in <UNK> house bela and his wife find they sleep better in <UNK> rather than <UNK> in the movie br br the corpse <UNK> is worth a look especially for bela lugosi fans great fun br br rating 3 stars out of 5 <PAD> <PAD> <PAD> <PAD> <PAD> <PAD> <PAD> <PAD> <PAD> <PAD> <PAD> <PAD> <PAD> <PAD> <PAD> <PAD> <PAD> <PAD> <PAD> <PAD> <PAD> <PAD> <PAD> <PAD> <PAD> <PAD> <PAD> <PAD> <PAD> <PAD> <PAD> <PAD> <PAD> <PAD> <PAD> <PAD> <PAD> <PAD> <PAD> <PAD> <PAD> <PAD> <PAD> <PAD> <PAD> <PAD> <PAD> <PAD> <PAD> <PAD> <PAD> <PAD> <PAD> <PAD> <PAD> <PAD> <PAD> <PAD> <PAD> <PAD> <PAD> <PAD> <PAD> <PAD> <PAD> <PAD> <PAD> <PAD> <PAD> <PAD> <PAD> <PAD> <PAD> <PAD> <PAD> <PAD> <PAD> <PAD> <PAD> <PAD> <PAD> <PAD> <PAD> <PAD> <PAD>\n",
            "<START> i have read the book a couple of times and this movie doesn't follow exactly as it should i could let this slide it is after all a movie however i have serious issues with the setting of the movie nobody has seemed to mention that this movie and the book it is based on are based in actual events that happened in <UNK> i live in <UNK> i grew up in the town that this movie is supposed to be based on first of all the small town that is talked about as the setting is the third largest city in the state with a population of around 50 000 grand island is the largest city between lincoln and denver second the scenery for the movie is wrong grand island is in the <UNK> river valley which is very flat with very few trees i tried watching this movie but it made me mad to see my hometown being treated so bad this was a real event large sections of the city were wiped out in the book they talk about riding <UNK> from mormon island to <UNK> park i guess you could if you don't mind a 15 mile ride each way for anyone who wants to know what really happened go here http www <UNK> com <UNK> <PAD> <PAD> <PAD> <PAD> <PAD> <PAD> <PAD> <PAD> <PAD> <PAD> <PAD> <PAD> <PAD> <PAD> <PAD> <PAD> <PAD> <PAD> <PAD> <PAD> <PAD> <PAD> <PAD> <PAD> <PAD> <PAD> <PAD> <PAD> <PAD> <PAD> <PAD> <PAD> <PAD> <PAD> <PAD>\n",
            "<START> i caught this at a test screening all i can say is what the hell this movie plays out about as smoothly as mickey mouse reading the script for scarface it's bizarre beyond making the slightest bit of sense and even if you do leave your brain in the car the film is still so bizarre that it isn't even funny br br the plot involves crocodile hunter steve irwin trying to save a crocodile which contains a cia <UNK> the cia comes after irwin to get their <UNK> back irwin mistakes them for <UNK> and sets out to stop them br br that's about all the story there is the rest is over the top <UNK> of australian culture <UNK> see <UNK> and <UNK> and strangely choreographed action sequences at one point irwin <UNK> a <UNK> <UNK> and knife fights with a cia agent on top of it yes that's right steve irwin knife fights a guy on top of an <UNK> let that be your guide for this ridiculously bad film <PAD> <PAD> <PAD> <PAD> <PAD> <PAD> <PAD> <PAD> <PAD> <PAD> <PAD> <PAD> <PAD> <PAD> <PAD> <PAD> <PAD> <PAD> <PAD> <PAD> <PAD> <PAD> <PAD> <PAD> <PAD> <PAD> <PAD> <PAD> <PAD> <PAD> <PAD> <PAD> <PAD> <PAD> <PAD> <PAD> <PAD> <PAD> <PAD> <PAD> <PAD> <PAD> <PAD> <PAD> <PAD> <PAD> <PAD> <PAD> <PAD> <PAD> <PAD> <PAD> <PAD> <PAD> <PAD> <PAD> <PAD> <PAD> <PAD> <PAD> <PAD> <PAD> <PAD> <PAD> <PAD> <PAD> <PAD> <PAD> <PAD> <PAD> <PAD> <PAD> <PAD> <PAD> <PAD> <PAD> <PAD> <PAD> <PAD> <PAD> <PAD> <PAD>\n",
            "<START> a strong woman oriented subject after long director <UNK> <UNK> <UNK> the power the <UNK> version of the hollywood hit not without my daughter is actress <UNK> first home production a story about a woman's fight against harsh injustice br br the story of the film revolves around <UNK> <UNK> kapoor who lives in canada with her two <UNK> <UNK> <UNK> <UNK> <UNK> there she meets <UNK> <UNK> kapoor falls in love with him and they soon marry their family is complete when <UNK> has a boy <UNK> master <UNK> <UNK> but their happiness is short lived as the news of <UNK> <UNK> mother <UNK> naval makes them leave their perfect life in canada and come to india and that's when the problems start from the moment they reach br br india both are shocked to see the <UNK> and the vast <UNK> of people everywhere they take a crowded train to reach <UNK> village and when they finally reach the station they have to catch a long bus drive to his village the filthy <UNK> bus combined with the uncertain <UNK> makes it a never ending drive and unfortunately for them a <UNK> mob that beat <UNK> out of shape for no fault of his attacks their bus fortunately they get shot dead just in time before they can further harm him after that they drive to the <UNK> <UNK> where <UNK> father <UNK> <UNK> <UNK> lives with his wife <UNK> naval <UNK> realized that her father in law is in command as soon\n",
            "<START> the first episode immediately gave a good impression what to expect from the series mysteries waiting to be solved and a lot of good drama i love the fact that they gradually reveal the stories concerning the characters explaining just enough to stay excited of course this show has some flaws in the first two series there are some characters who for some reason don't show up in the third season many of the characters have a decent sent off but some of them just aren't there like rose and her husband where the hell are they what happened to them maybe they will return in later episodes but it is a little inconsistent that being said lost manages to be thrilling every episode especially the first two seasons that is a very hard thing to do i do notice that in the third season the focus is more on character development than the mystery aspects of the show this is not a bad thing it even saves some episodes from getting boring one of the elements that can be considered the strength of this show are the wonderful characters you will grow to love these characters good or bad but eventually i will want to see some mysteries to be solved and get closure the danger of lost getting canceled due to <UNK> ratings is near and that would be devastating <PAD> <PAD> <PAD> <PAD> <PAD> <PAD> <PAD> <PAD> <PAD> <PAD> <PAD> <PAD> <PAD> <PAD> <PAD> <PAD> <PAD> <PAD> <PAD> <PAD> <PAD> <PAD> <PAD>\n",
            "<START> i don't know what it is i find so endearing about this film but the first time i saw it i wanted to see how it ended i'm not a big fan of paul <UNK> nor of war dramas but i was truly wondering just how and when <UNK> would find his child all he knows is that the boy has green eyes truth be told i have not seen this movie in years nor has it been shown on tv in a while but this movie is somewhat of one man's odyssey after the pains of war <UNK> shows a very sympathetic and heart warming portrayal of a man lost by his memories there is an underlying message in this movie that he is looking for the last shred of human morality in the aftermath of this war and the reality that he does confront why this movie is not yet on dvd or video is a mystery to me <PAD> <PAD> <PAD> <PAD> <PAD> <PAD> <PAD> <PAD> <PAD> <PAD> <PAD> <PAD> <PAD> <PAD> <PAD> <PAD> <PAD> <PAD> <PAD> <PAD> <PAD> <PAD> <PAD> <PAD> <PAD> <PAD> <PAD> <PAD> <PAD> <PAD> <PAD> <PAD> <PAD> <PAD> <PAD> <PAD> <PAD> <PAD> <PAD> <PAD> <PAD> <PAD> <PAD> <PAD> <PAD> <PAD> <PAD> <PAD> <PAD> <PAD> <PAD> <PAD> <PAD> <PAD> <PAD> <PAD> <PAD> <PAD> <PAD> <PAD> <PAD> <PAD> <PAD> <PAD> <PAD> <PAD> <PAD> <PAD> <PAD> <PAD> <PAD> <PAD> <PAD> <PAD> <PAD> <PAD> <PAD> <PAD> <PAD> <PAD> <PAD> <PAD> <PAD> <PAD> <PAD> <PAD> <PAD> <PAD> <PAD> <PAD> <PAD> <PAD> <PAD> <PAD>\n",
            "<START> many have stated that <UNK>  killer whale is a jaws rip off this is not really true though the enormous commercial success of jaws undoubtedly made these man vs beast stories more attractive <UNK> for film makers in the second half of the '70s <UNK>  killer whale would be better described as a modern day <UNK> of <UNK> dick it's a story about obsession on one hand a <UNK> obsessive quest to avenge the death of its mate on the other a bounty <UNK> obsessive quest to kill the whale before it can claim any more lives sadly <UNK> killer whale emerges a very disappointing film its <UNK> interesting ideas somewhat ruined by hammy performances and preposterous plotting br br shark hunter nolan richard harris encounters a marine life <UNK> rachel <UNK> charlotte <UNK> diving off the atlantic coast of canada their meeting almost ends in disaster when <UNK> team are attacked by a great white shark but a killer whale arrives in the nick of time to stop the shark after this nolan becomes increasingly obsessed with capturing a killer whale and selling it to an <UNK> but his plans <UNK> when he accidentally kills a pregnant female of the species while the <UNK> male looks on rachel tells nolan that a killer whale is an incredibly intelligent <UNK> with a strong memory and feelings just like a human worse still native <UNK> will <UNK> warns him that the whale will always remember its grief and do everything it can to have\n",
            "<START> detective tony rome frank sinatra returns to the screen after his self titled debut this time it's a film that's played for <UNK> while on a diving trip rome finds the body of a blonde beauty at the bottom of the sea her feet as you might expect <UNK> in <UNK> rome immediately on the case after being hired by man mountain <UNK> <UNK> rome finds himself immediately at risk as he has to investigate some mafia types who turn the tables on him and he is himself found to be the main suspect he must now go on the run and hope to solve the case alone the <UNK> sinatra tries hard to sell us the lame jokes and make us believe he is a good detective oh and not to mention being sexually attractive to the <UNK> <UNK> welch but he fails miserably in this ham <UNK> vanity project the frankly laughable denouement that <UNK> every female is quite astounding every woman in the film is a <UNK> head who likes <UNK> over is front of the camera director douglas of course <UNK> in <UNK> in on the cracks of their <UNK> each time as they <UNK> their <UNK> <UNK> there's even a ridiculously campy gay character that <UNK> belief this was a film made by real men for real men to <UNK> their own <UNK> sexuality it's a shameful <UNK> <PAD> <PAD> <PAD> <PAD> <PAD> <PAD> <PAD> <PAD> <PAD> <PAD> <PAD> <PAD> <PAD> <PAD> <PAD> <PAD> <PAD> <PAD> <PAD> <PAD> <PAD> <PAD>\n",
            "<START> sorry i just didn't find the subject matter as compelling as the filmmaker did the robot guy and the mole rat guy were pretty interesting although morris didn't really tell us much about them the other two subjects were a bore and the supposed connections between them didn't hold up <PAD> <PAD> <PAD> <PAD> <PAD> <PAD> <PAD> <PAD> <PAD> <PAD> <PAD> <PAD> <PAD> <PAD> <PAD> <PAD> <PAD> <PAD> <PAD> <PAD> <PAD> <PAD> <PAD> <PAD> <PAD> <PAD> <PAD> <PAD> <PAD> <PAD> <PAD> <PAD> <PAD> <PAD> <PAD> <PAD> <PAD> <PAD> <PAD> <PAD> <PAD> <PAD> <PAD> <PAD> <PAD> <PAD> <PAD> <PAD> <PAD> <PAD> <PAD> <PAD> <PAD> <PAD> <PAD> <PAD> <PAD> <PAD> <PAD> <PAD> <PAD> <PAD> <PAD> <PAD> <PAD> <PAD> <PAD> <PAD> <PAD> <PAD> <PAD> <PAD> <PAD> <PAD> <PAD> <PAD> <PAD> <PAD> <PAD> <PAD> <PAD> <PAD> <PAD> <PAD> <PAD> <PAD> <PAD> <PAD> <PAD> <PAD> <PAD> <PAD> <PAD> <PAD> <PAD> <PAD> <PAD> <PAD> <PAD> <PAD> <PAD> <PAD> <PAD> <PAD> <PAD> <PAD> <PAD> <PAD> <PAD> <PAD> <PAD> <PAD> <PAD> <PAD> <PAD> <PAD> <PAD> <PAD> <PAD> <PAD> <PAD> <PAD> <PAD> <PAD> <PAD> <PAD> <PAD> <PAD> <PAD> <PAD> <PAD> <PAD> <PAD> <PAD> <PAD> <PAD> <PAD> <PAD> <PAD> <PAD> <PAD> <PAD> <PAD> <PAD> <PAD> <PAD> <PAD> <PAD> <PAD> <PAD> <PAD> <PAD> <PAD> <PAD> <PAD> <PAD> <PAD> <PAD> <PAD> <PAD> <PAD> <PAD> <PAD> <PAD> <PAD> <PAD> <PAD> <PAD> <PAD> <PAD> <PAD> <PAD> <PAD> <PAD> <PAD> <PAD> <PAD> <PAD> <PAD> <PAD> <PAD> <PAD> <PAD> <PAD> <PAD> <PAD> <PAD> <PAD> <PAD> <PAD> <PAD> <PAD> <PAD> <PAD> <PAD> <PAD> <PAD> <PAD> <PAD> <PAD> <PAD> <PAD> <PAD> <PAD> <PAD>\n",
            "<START> on 24 october 1955 the hard work <UNK> of the hadley oil company mitch wayne rock hudson meets the executive secretary lucy moore lauren bacall in the office of her boss bill ryan in new york and invites her to go to a <UNK> with the alcoholic playboy and son of a <UNK> kyle hadley robert stack on the way of the meeting he <UNK> that they had traveled from <UNK> to new york to satisfy the wish of the reckless kyle who is his best friend since their childhood of eating a <UNK> from club 21 and the meeting was just a <UNK> to <UNK> father <UNK> hadley robert keith mitch and kyle immediately fall in love for lucy and kyle <UNK> uses his money to impress lucy then he opens his heart and <UNK> lucy they get married and travel to <UNK> and the insecure kyle stops drinking meanwhile <UNK> sister <UNK> dorothy malone is an easy woman and has a non <UNK> crush on mitch that sees her as a sister one year later kyle discovers that he has a problem and might be <UNK> and starts drinking again the jealous <UNK> <UNK> kyle telling that his wife and mitch are having a love affair when lucy finds that she is pregnant kyle believes that the baby belongs to mitch and his <UNK> leads to a tragedy br br written on the wind is an overrated melodramatic soap opera with artificial characters and situations there are at least two great movies with\n",
            "<START> as with many other pop culture franchise series this line just didn't know when to quit instead of leaving things as they were perfectly ended they went on to generate this the first installment of this franchise to fall sorely short of the mark br br this movie should never have happened it was not intended for there to have been a fourth movie in this line and it sure shows the premise is idiotic and the portrayals were the same br br after the wonderful experience which was the omen this was a major disappointment which <UNK> of 70's cheese and horrible acting it was reminiscent of the <UNK> horror in those aspects and left a terrible lingering <UNK> long after it was over br br it rates a 1 4 10 from br br the fiend <PAD> <PAD> <PAD> <PAD> <PAD> <PAD> <PAD> <PAD> <PAD> <PAD> <PAD> <PAD> <PAD> <PAD> <PAD> <PAD> <PAD> <PAD> <PAD> <PAD> <PAD> <PAD> <PAD> <PAD> <PAD> <PAD> <PAD> <PAD> <PAD> <PAD> <PAD> <PAD> <PAD> <PAD> <PAD> <PAD> <PAD> <PAD> <PAD> <PAD> <PAD> <PAD> <PAD> <PAD> <PAD> <PAD> <PAD> <PAD> <PAD> <PAD> <PAD> <PAD> <PAD> <PAD> <PAD> <PAD> <PAD> <PAD> <PAD> <PAD> <PAD> <PAD> <PAD> <PAD> <PAD> <PAD> <PAD> <PAD> <PAD> <PAD> <PAD> <PAD> <PAD> <PAD> <PAD> <PAD> <PAD> <PAD> <PAD> <PAD> <PAD> <PAD> <PAD> <PAD> <PAD> <PAD> <PAD> <PAD> <PAD> <PAD> <PAD> <PAD> <PAD> <PAD> <PAD> <PAD> <PAD> <PAD> <PAD> <PAD> <PAD> <PAD> <PAD> <PAD> <PAD> <PAD> <PAD> <PAD> <PAD> <PAD> <PAD> <PAD> <PAD> <PAD> <PAD> <PAD> <PAD>\n",
            "<START> this so called remake is terrible i went to see this tonight on the first day as the anticipation and hype was too much for me to handle but within the first half an hour we knew that this is a disaster it not only does not match the hype created but also insults the original blockbuster the script had <UNK> the editing was <UNK> quite a few times <UNK> who is an excellent actor did an okay job amitabh was alright the director wanted to portray how evil his character is but he went a bit overboard which resulted in it being <UNK> ajay who is especially smooth in these kind of roles was also a disappointment lets not even get started about the new guy <UNK> one wouldn't be proud to start off a career with something like this <UNK> <UNK> who was thrown in for a few laughs couldn't even get a smile out of anyone because of his <UNK> humor and the shrill voice <UNK> <UNK> proved that she is one of the worst actresses we have today all in all <UNK> who i thought was one of the most talented and gifted directors india has had failed miserably he took up such a huge challenge and responsibility to remake what is known as the best hindi movie ever and made a mess out of it <PAD> <PAD> <PAD> <PAD> <PAD> <PAD> <PAD> <PAD> <PAD> <PAD> <PAD> <PAD> <PAD> <PAD> <PAD> <PAD> <PAD> <PAD> <PAD> <PAD> <PAD> <PAD> <PAD> <PAD> <PAD>\n",
            "<START> this was the third muppet movie and the last one jim <UNK> was around to take part in the making of before his <UNK> death in 1990 the first three films starring the famous characters were all made and released into theatres before i was born i originally saw the first and second <UNK> in the original trilogy the muppet movie and the great muppet caper around the mid nineties as a kid but didn't see this third one the muppets take manhattan until april 2007 this was shortly after i had seen its two predecessors and <UNK> muppet treasure island for the first time in many years this third muppet movie definitely didn't disappoint me the first time i saw it and my second viewing nearly three years later may not have impressed me as much but if not it certainly didn't go too far downhill br br the <UNK> stage musical manhattan <UNK> turns out to be a big hit on their college campus they are <UNK> from college so they will soon be leaving but decide they will all stay together and go to manhattan to try and get their show on broadway after their arrival they begin searching for a producer but after many <UNK> they finally decide to part and go find jobs most of them leave town but <UNK> stays and is still determined to find the right producer and reunite the muppet gang he gets a job at a new york restaurant owned by a man named pete\n",
            "<START> this film was on late at night when i saw it it was interesting at start but it didn't convince me as a whole i am no <UNK> fan in fact i don't like boxing at all it's <UNK> obscene and double faced by society that some get money for beating each other up br br nevertheless i felt the start of the film was ok actors alright especially george c scott as <UNK> <UNK> i don't know how reliable the flick is i haven't read books and books about boxing or <UNK> i don't know anything about the man but it was quite entertaining br br as the movie went on i felt it lost a little of it's charm and i also lost interest i managed to stay awake though but the last hour was just not good enough <PAD> <PAD> <PAD> <PAD> <PAD> <PAD> <PAD> <PAD> <PAD> <PAD> <PAD> <PAD> <PAD> <PAD> <PAD> <PAD> <PAD> <PAD> <PAD> <PAD> <PAD> <PAD> <PAD> <PAD> <PAD> <PAD> <PAD> <PAD> <PAD> <PAD> <PAD> <PAD> <PAD> <PAD> <PAD> <PAD> <PAD> <PAD> <PAD> <PAD> <PAD> <PAD> <PAD> <PAD> <PAD> <PAD> <PAD> <PAD> <PAD> <PAD> <PAD> <PAD> <PAD> <PAD> <PAD> <PAD> <PAD> <PAD> <PAD> <PAD> <PAD> <PAD> <PAD> <PAD> <PAD> <PAD> <PAD> <PAD> <PAD> <PAD> <PAD> <PAD> <PAD> <PAD> <PAD> <PAD> <PAD> <PAD> <PAD> <PAD> <PAD> <PAD> <PAD> <PAD> <PAD> <PAD> <PAD> <PAD> <PAD> <PAD> <PAD> <PAD> <PAD> <PAD> <PAD> <PAD> <PAD> <PAD> <PAD> <PAD> <PAD> <PAD> <PAD> <PAD> <PAD> <PAD> <PAD> <PAD> <PAD> <PAD> <PAD> <PAD> <PAD> <PAD>\n",
            "<START> warning this review contains spoilers do not read if you don't want some points revealed to you before you watch the film br br with a cast like this you wonder whether or not the actors and actresses knew exactly what they were getting into did they see the script and say hey close encounters of the third kind was such a hit that this one can't fail ' unfortunately it does did they even think to check on the director's <UNK> i mean would you do a movie with the director of a movie called <UNK> <UNK> ' <UNK> clark who would later go on to direct the infamous final justice ' made this it makes you wonder how the people of mystery science theater 3000 could hammer final <UNK> and completely miss out on the return ' br br the film is set in a small town in new mexico a little boy and girl are in the street <UNK> one night when a powerful <UNK> <UNK> er a spaceship appears and <UNK> over them in probably the worst special effect sequence of the film the ship <UNK> some kind of red <UNK> on them it looked like clark had held a <UNK> of water in from of the camera lens and <UNK> his <UNK> pen in it so right away you are treated with cheese anyhow the ship leaves and the adults don't believe the children elsewhere we see vincent <UNK> whom i find to be a terrific actor watch his scenes\n",
            "<START> the script for this tv soap opera is so bad that even a hopkins at some point had to play like an <UNK> drama student so as to bring some life in his script dead character i do not know whether this was the purpose of the director but <UNK> <UNK> <UNK> nothing but vanity fear and lack of self <UNK> the real <UNK> possibly was all that but then why make a movie about him <UNK> was a bit more convincing and his long way down was as if closer to the truth <UNK> <UNK> was plain ridiculous not because of sarandon but because of the <UNK> script while she had to be the central character of this alleged <UNK> drama watch it only if you enjoy <UNK> soap opera <PAD> <PAD> <PAD> <PAD> <PAD> <PAD> <PAD> <PAD> <PAD> <PAD> <PAD> <PAD> <PAD> <PAD> <PAD> <PAD> <PAD> <PAD> <PAD> <PAD> <PAD> <PAD> <PAD> <PAD> <PAD> <PAD> <PAD> <PAD> <PAD> <PAD> <PAD> <PAD> <PAD> <PAD> <PAD> <PAD> <PAD> <PAD> <PAD> <PAD> <PAD> <PAD> <PAD> <PAD> <PAD> <PAD> <PAD> <PAD> <PAD> <PAD> <PAD> <PAD> <PAD> <PAD> <PAD> <PAD> <PAD> <PAD> <PAD> <PAD> <PAD> <PAD> <PAD> <PAD> <PAD> <PAD> <PAD> <PAD> <PAD> <PAD> <PAD> <PAD> <PAD> <PAD> <PAD> <PAD> <PAD> <PAD> <PAD> <PAD> <PAD> <PAD> <PAD> <PAD> <PAD> <PAD> <PAD> <PAD> <PAD> <PAD> <PAD> <PAD> <PAD> <PAD> <PAD> <PAD> <PAD> <PAD> <PAD> <PAD> <PAD> <PAD> <PAD> <PAD> <PAD> <PAD> <PAD> <PAD> <PAD> <PAD> <PAD> <PAD> <PAD> <PAD> <PAD> <PAD> <PAD> <PAD> <PAD> <PAD> <PAD> <PAD> <PAD> <PAD>\n",
            "<START> hamlet is by far my favorite of all of shakespeare's works <UNK> is one heck of an actor his portrayal of this was just amazing his <UNK> were breathtaking for as long as it was it is rare for a film to hold my interest however i was <UNK> in this particular piece i recommend this to anyone both fan of shakespeare and those not so much this has everything the modern world looks for in its films murder betrayal and <UNK> not to knock mel <UNK> version but <UNK> touches the whole work this leaves no stone <UNK> when you finish the film it will feel as if you read the play yourself um how you say two thumbs up <PAD> <PAD> <PAD> <PAD> <PAD> <PAD> <PAD> <PAD> <PAD> <PAD> <PAD> <PAD> <PAD> <PAD> <PAD> <PAD> <PAD> <PAD> <PAD> <PAD> <PAD> <PAD> <PAD> <PAD> <PAD> <PAD> <PAD> <PAD> <PAD> <PAD> <PAD> <PAD> <PAD> <PAD> <PAD> <PAD> <PAD> <PAD> <PAD> <PAD> <PAD> <PAD> <PAD> <PAD> <PAD> <PAD> <PAD> <PAD> <PAD> <PAD> <PAD> <PAD> <PAD> <PAD> <PAD> <PAD> <PAD> <PAD> <PAD> <PAD> <PAD> <PAD> <PAD> <PAD> <PAD> <PAD> <PAD> <PAD> <PAD> <PAD> <PAD> <PAD> <PAD> <PAD> <PAD> <PAD> <PAD> <PAD> <PAD> <PAD> <PAD> <PAD> <PAD> <PAD> <PAD> <PAD> <PAD> <PAD> <PAD> <PAD> <PAD> <PAD> <PAD> <PAD> <PAD> <PAD> <PAD> <PAD> <PAD> <PAD> <PAD> <PAD> <PAD> <PAD> <PAD> <PAD> <PAD> <PAD> <PAD> <PAD> <PAD> <PAD> <PAD> <PAD> <PAD> <PAD> <PAD> <PAD> <PAD> <PAD> <PAD> <PAD> <PAD> <PAD> <PAD> <PAD> <PAD> <PAD> <PAD> <PAD> <PAD> <PAD> <PAD> <PAD>\n",
            "<START> in this swimming pool this pond there are water <UNK> and there are <UNK> <UNK> sit on water <UNK> the frog and water lily have a <UNK> relationship marie pauline <UNK> is a water lily a <UNK> swimming <UNK> with a crush on <UNK> adele <UNK> a frog the captain of her team <UNK> <UNK> <UNK> their leader because the <UNK> <UNK> and well <UNK> blonde conveys a loose persona that betrays the <UNK> <UNK> mindset of <UNK> and discipline but <UNK> has a secret the <UNK> has a <UNK> which <UNK> des <UNK> reveals to the audience visually before she <UNK> in marie br br <UNK> has never gone as they say all the way with a boy br br at a party we see a double image of the <UNK> sex bomb checking her make up in a bathroom mirror <UNK> is a <UNK> morgana marie gets to know <UNK> double while her imitation breaks the water <UNK> heart while the frog goes through the motions of catching flies for <UNK> sake she gets <UNK> with the water lily when no one's looking in the film's most startling scene the water lily agrees to give the frog a hand in losing her virginity through the mechanical act of <UNK> <UNK> <UNK> wants boys to like her but she doesn't like boys seemingly but it's more important to the frog that she's popular when the water lily finally kisses the frog the frog remains a frog the frog can't <UNK> into a water lily\n",
            "<START> police story is arguably one of the best works by the master of action himself compared to other action films police story makes <UNK> and stallone look like <UNK> the stunt scenes are well <UNK> and the action scenes are superb if new line cinema has any sense they would release this in theaters <PAD> <PAD> <PAD> <PAD> <PAD> <PAD> <PAD> <PAD> <PAD> <PAD> <PAD> <PAD> <PAD> <PAD> <PAD> <PAD> <PAD> <PAD> <PAD> <PAD> <PAD> <PAD> <PAD> <PAD> <PAD> <PAD> <PAD> <PAD> <PAD> <PAD> <PAD> <PAD> <PAD> <PAD> <PAD> <PAD> <PAD> <PAD> <PAD> <PAD> <PAD> <PAD> <PAD> <PAD> <PAD> <PAD> <PAD> <PAD> <PAD> <PAD> <PAD> <PAD> <PAD> <PAD> <PAD> <PAD> <PAD> <PAD> <PAD> <PAD> <PAD> <PAD> <PAD> <PAD> <PAD> <PAD> <PAD> <PAD> <PAD> <PAD> <PAD> <PAD> <PAD> <PAD> <PAD> <PAD> <PAD> <PAD> <PAD> <PAD> <PAD> <PAD> <PAD> <PAD> <PAD> <PAD> <PAD> <PAD> <PAD> <PAD> <PAD> <PAD> <PAD> <PAD> <PAD> <PAD> <PAD> <PAD> <PAD> <PAD> <PAD> <PAD> <PAD> <PAD> <PAD> <PAD> <PAD> <PAD> <PAD> <PAD> <PAD> <PAD> <PAD> <PAD> <PAD> <PAD> <PAD> <PAD> <PAD> <PAD> <PAD> <PAD> <PAD> <PAD> <PAD> <PAD> <PAD> <PAD> <PAD> <PAD> <PAD> <PAD> <PAD> <PAD> <PAD> <PAD> <PAD> <PAD> <PAD> <PAD> <PAD> <PAD> <PAD> <PAD> <PAD> <PAD> <PAD> <PAD> <PAD> <PAD> <PAD> <PAD> <PAD> <PAD> <PAD> <PAD> <PAD> <PAD> <PAD> <PAD> <PAD> <PAD> <PAD> <PAD> <PAD> <PAD> <PAD> <PAD> <PAD> <PAD> <PAD> <PAD> <PAD> <PAD> <PAD> <PAD> <PAD> <PAD> <PAD> <PAD> <PAD> <PAD> <PAD> <PAD> <PAD> <PAD> <PAD> <PAD> <PAD> <PAD> <PAD> <PAD> <PAD> <PAD> <PAD> <PAD> <PAD> <PAD> <PAD> <PAD> <PAD>\n",
            "<START> sorry but i will spoil both the plot line and the ending for you in hopes of avoiding a holiday fiasco like the one that i now face the father dies and the mother asks santa in a letter to bring him back to the family for christmas and santa does dad is <UNK> happy healthy and totally unaware of the fact that he had died all ends <UNK> sweet br br but as a parent who recently watched my five year old lose his best <UNK> friend it was a horror flick now my son is convinced that all he has to do to bring his buddy back is to ask santa do not <UNK> the <UNK> of a young heart no amount of <UNK> will convince him that it was only a movie and that his dog is not coming back for christmas it has been heart breaking to watch his joy only to know that christmas eve he will have to face his loss <UNK> br br shame on you on behalf of all the <UNK> that have lost a loved one recently it is hard enough to deal with the loss one time for a child but there are some wishes that we shouldn't even portray as a possibility <PAD> <PAD> <PAD> <PAD> <PAD> <PAD> <PAD> <PAD> <PAD> <PAD> <PAD> <PAD> <PAD> <PAD> <PAD> <PAD> <PAD> <PAD> <PAD> <PAD> <PAD> <PAD> <PAD> <PAD> <PAD> <PAD> <PAD> <PAD> <PAD> <PAD> <PAD> <PAD> <PAD> <PAD> <PAD> <PAD> <PAD> <PAD> <PAD> <PAD> <PAD> <PAD>\n",
            "<START> when philo vance edmund lowe is standing <UNK> on the edge of a balcony high above the city apparently <UNK> and just about to step to his death it immediately reminded me of a nearly identical scene in another film made nine years later the woman in green in which sherlock holmes basil <UNK> is similarly about to <UNK> himself into space while being <UNK> br br happily both philo vance and sherlock holmes survive these attempts at murder by <UNK> criminals exciting cinematic suspense in both these scenes when will they learn you can't cloud the minds of great fictional detectives <PAD> <PAD> <PAD> <PAD> <PAD> <PAD> <PAD> <PAD> <PAD> <PAD> <PAD> <PAD> <PAD> <PAD> <PAD> <PAD> <PAD> <PAD> <PAD> <PAD> <PAD> <PAD> <PAD> <PAD> <PAD> <PAD> <PAD> <PAD> <PAD> <PAD> <PAD> <PAD> <PAD> <PAD> <PAD> <PAD> <PAD> <PAD> <PAD> <PAD> <PAD> <PAD> <PAD> <PAD> <PAD> <PAD> <PAD> <PAD> <PAD> <PAD> <PAD> <PAD> <PAD> <PAD> <PAD> <PAD> <PAD> <PAD> <PAD> <PAD> <PAD> <PAD> <PAD> <PAD> <PAD> <PAD> <PAD> <PAD> <PAD> <PAD> <PAD> <PAD> <PAD> <PAD> <PAD> <PAD> <PAD> <PAD> <PAD> <PAD> <PAD> <PAD> <PAD> <PAD> <PAD> <PAD> <PAD> <PAD> <PAD> <PAD> <PAD> <PAD> <PAD> <PAD> <PAD> <PAD> <PAD> <PAD> <PAD> <PAD> <PAD> <PAD> <PAD> <PAD> <PAD> <PAD> <PAD> <PAD> <PAD> <PAD> <PAD> <PAD> <PAD> <PAD> <PAD> <PAD> <PAD> <PAD> <PAD> <PAD> <PAD> <PAD> <PAD> <PAD> <PAD> <PAD> <PAD> <PAD> <PAD> <PAD> <PAD> <PAD> <PAD> <PAD> <PAD> <PAD> <PAD> <PAD> <PAD> <PAD> <PAD> <PAD> <PAD> <PAD> <PAD> <PAD> <PAD> <PAD> <PAD> <PAD> <PAD> <PAD> <PAD>\n",
            "<START> i am rarely moved to make these kind of comments but after sitting through most of <UNK> dreadful movie i feel like i have really earned the right to say what i feel about it i couldn't actually make it right to the end and became one of the half dozen or more walk outs about 1 3rd of the audience after the <UNK> plot <UNK> dialogue and insulting characterisation became just too much to bear this film is all pose and no art all style and no substance it is <UNK> down by dreadful acting a genuinely dire script indifferent cinematography and student level production values how it got <UNK> started and finished is a mystery to me i bet you a million <UNK> it never goes on general release the proper critics would tear it apart a really bad film shockingly bad a really really really poor effort and that is without even mentioning the gratuitous new born <UNK> gets dropped into a deep fat <UNK> moment totally meaningless utterly lightweight poorly put together this movie is a dreadful embarrassment for uk cinema <PAD> <PAD> <PAD> <PAD> <PAD> <PAD> <PAD> <PAD> <PAD> <PAD> <PAD> <PAD> <PAD> <PAD> <PAD> <PAD> <PAD> <PAD> <PAD> <PAD> <PAD> <PAD> <PAD> <PAD> <PAD> <PAD> <PAD> <PAD> <PAD> <PAD> <PAD> <PAD> <PAD> <PAD> <PAD> <PAD> <PAD> <PAD> <PAD> <PAD> <PAD> <PAD> <PAD> <PAD> <PAD> <PAD> <PAD> <PAD> <PAD> <PAD> <PAD> <PAD> <PAD> <PAD> <PAD> <PAD> <PAD> <PAD> <PAD> <PAD> <PAD> <PAD> <PAD> <PAD> <PAD> <PAD> <PAD> <PAD> <PAD> <PAD>\n"
          ]
        }
      ]
    },
    {
      "cell_type": "code",
      "source": [
        "model.compile(loss='binary_crossentropy', optimizer='adam', metrics=['accuracy'])"
      ],
      "metadata": {
        "id": "7Pn0vSj2qf8k"
      },
      "execution_count": 58,
      "outputs": []
    },
    {
      "cell_type": "code",
      "source": [
        "model.fit(xtrain_mod, ytrain, epochs=100, validation_split=0.2)"
      ],
      "metadata": {
        "colab": {
          "base_uri": "https://localhost:8080/"
        },
        "id": "TLZ0r7wbqrwJ",
        "outputId": "3e92c60c-7df5-4ead-a508-d8a8b9b58e49"
      },
      "execution_count": 59,
      "outputs": [
        {
          "output_type": "stream",
          "name": "stdout",
          "text": [
            "Epoch 1/10\n",
            "\u001b[1m625/625\u001b[0m \u001b[32m━━━━━━━━━━━━━━━━━━━━\u001b[0m\u001b[37m\u001b[0m \u001b[1m5s\u001b[0m 5ms/step - accuracy: 0.6043 - loss: 0.6364 - val_accuracy: 0.8388 - val_loss: 0.3630\n",
            "Epoch 2/10\n",
            "\u001b[1m625/625\u001b[0m \u001b[32m━━━━━━━━━━━━━━━━━━━━\u001b[0m\u001b[37m\u001b[0m \u001b[1m5s\u001b[0m 7ms/step - accuracy: 0.8661 - loss: 0.3102 - val_accuracy: 0.8644 - val_loss: 0.3177\n",
            "Epoch 3/10\n",
            "\u001b[1m625/625\u001b[0m \u001b[32m━━━━━━━━━━━━━━━━━━━━\u001b[0m\u001b[37m\u001b[0m \u001b[1m3s\u001b[0m 4ms/step - accuracy: 0.9058 - loss: 0.2396 - val_accuracy: 0.8816 - val_loss: 0.2992\n",
            "Epoch 4/10\n",
            "\u001b[1m625/625\u001b[0m \u001b[32m━━━━━━━━━━━━━━━━━━━━\u001b[0m\u001b[37m\u001b[0m \u001b[1m5s\u001b[0m 4ms/step - accuracy: 0.9216 - loss: 0.2075 - val_accuracy: 0.8834 - val_loss: 0.2984\n",
            "Epoch 5/10\n",
            "\u001b[1m625/625\u001b[0m \u001b[32m━━━━━━━━━━━━━━━━━━━━\u001b[0m\u001b[37m\u001b[0m \u001b[1m6s\u001b[0m 6ms/step - accuracy: 0.9311 - loss: 0.1821 - val_accuracy: 0.8818 - val_loss: 0.3160\n",
            "Epoch 6/10\n",
            "\u001b[1m625/625\u001b[0m \u001b[32m━━━━━━━━━━━━━━━━━━━━\u001b[0m\u001b[37m\u001b[0m \u001b[1m4s\u001b[0m 4ms/step - accuracy: 0.9424 - loss: 0.1586 - val_accuracy: 0.8848 - val_loss: 0.3189\n",
            "Epoch 7/10\n",
            "\u001b[1m625/625\u001b[0m \u001b[32m━━━━━━━━━━━━━━━━━━━━\u001b[0m\u001b[37m\u001b[0m \u001b[1m3s\u001b[0m 4ms/step - accuracy: 0.9466 - loss: 0.1464 - val_accuracy: 0.8788 - val_loss: 0.3440\n",
            "Epoch 8/10\n",
            "\u001b[1m625/625\u001b[0m \u001b[32m━━━━━━━━━━━━━━━━━━━━\u001b[0m\u001b[37m\u001b[0m \u001b[1m6s\u001b[0m 6ms/step - accuracy: 0.9572 - loss: 0.1222 - val_accuracy: 0.8740 - val_loss: 0.3749\n",
            "Epoch 9/10\n",
            "\u001b[1m625/625\u001b[0m \u001b[32m━━━━━━━━━━━━━━━━━━━━\u001b[0m\u001b[37m\u001b[0m \u001b[1m3s\u001b[0m 4ms/step - accuracy: 0.9646 - loss: 0.1064 - val_accuracy: 0.8738 - val_loss: 0.3739\n",
            "Epoch 10/10\n",
            "\u001b[1m625/625\u001b[0m \u001b[32m━━━━━━━━━━━━━━━━━━━━\u001b[0m\u001b[37m\u001b[0m \u001b[1m6s\u001b[0m 5ms/step - accuracy: 0.9662 - loss: 0.1016 - val_accuracy: 0.8616 - val_loss: 0.4413\n"
          ]
        },
        {
          "output_type": "execute_result",
          "data": {
            "text/plain": [
              "<keras.src.callbacks.history.History at 0x7bca87c7a020>"
            ]
          },
          "metadata": {},
          "execution_count": 59
        }
      ]
    },
    {
      "cell_type": "code",
      "source": [
        "p = model.predict(xtest_mod)"
      ],
      "metadata": {
        "colab": {
          "base_uri": "https://localhost:8080/"
        },
        "id": "2avUYeqYqwAH",
        "outputId": "4436ada3-5322-4cdd-8751-92bf1db66e10"
      },
      "execution_count": 60,
      "outputs": [
        {
          "output_type": "stream",
          "name": "stdout",
          "text": [
            "\u001b[1m782/782\u001b[0m \u001b[32m━━━━━━━━━━━━━━━━━━━━\u001b[0m\u001b[37m\u001b[0m \u001b[1m3s\u001b[0m 4ms/step\n"
          ]
        }
      ]
    },
    {
      "cell_type": "code",
      "source": [
        "p[:5]"
      ],
      "metadata": {
        "colab": {
          "base_uri": "https://localhost:8080/"
        },
        "id": "JFYnWdr-q98-",
        "outputId": "58127098-2575-48fd-9f0a-bab47792d5ca"
      },
      "execution_count": 61,
      "outputs": [
        {
          "output_type": "execute_result",
          "data": {
            "text/plain": [
              "array([[0.5608702 ],\n",
              "       [0.99999326],\n",
              "       [0.99186677],\n",
              "       [0.36540067],\n",
              "       [0.99513036]], dtype=float32)"
            ]
          },
          "metadata": {},
          "execution_count": 61
        }
      ]
    },
    {
      "cell_type": "code",
      "source": [
        "ytest[:5]"
      ],
      "metadata": {
        "colab": {
          "base_uri": "https://localhost:8080/"
        },
        "id": "Bv7WX3YrrAQn",
        "outputId": "d5ed6bb5-38ab-4bd9-92bc-5f51b67d2c72"
      },
      "execution_count": 62,
      "outputs": [
        {
          "output_type": "execute_result",
          "data": {
            "text/plain": [
              "array([0, 1, 1, 0, 1])"
            ]
          },
          "metadata": {},
          "execution_count": 62
        }
      ]
    },
    {
      "cell_type": "code",
      "source": [
        "pred = [1 if value>0.5 else 0 for value in p]\n",
        "pred[:5]"
      ],
      "metadata": {
        "colab": {
          "base_uri": "https://localhost:8080/"
        },
        "id": "ytTGq3o9rCkP",
        "outputId": "feb9b9b5-491b-409f-9645-63b3efe255c5"
      },
      "execution_count": 63,
      "outputs": [
        {
          "output_type": "execute_result",
          "data": {
            "text/plain": [
              "[1, 1, 1, 0, 1]"
            ]
          },
          "metadata": {},
          "execution_count": 63
        }
      ]
    },
    {
      "cell_type": "code",
      "source": [
        "from sklearn.metrics import accuracy_score\n",
        "accuracy_score(pred, ytest)"
      ],
      "metadata": {
        "colab": {
          "base_uri": "https://localhost:8080/"
        },
        "id": "LmPrF6PtrMx-",
        "outputId": "90a4915a-2a03-4596-9218-9e79763a1914"
      },
      "execution_count": 65,
      "outputs": [
        {
          "output_type": "execute_result",
          "data": {
            "text/plain": [
              "0.84228"
            ]
          },
          "metadata": {},
          "execution_count": 65
        }
      ]
    },
    {
      "cell_type": "code",
      "source": [
        "model.summary()"
      ],
      "metadata": {
        "colab": {
          "base_uri": "https://localhost:8080/",
          "height": 331
        },
        "id": "nwWfLz1DrW3Q",
        "outputId": "115fbba3-a87e-43bb-f50b-46eb9a35206d"
      },
      "execution_count": 66,
      "outputs": [
        {
          "output_type": "display_data",
          "data": {
            "text/plain": [
              "\u001b[1mModel: \"sequential_1\"\u001b[0m\n"
            ],
            "text/html": [
              "<pre style=\"white-space:pre;overflow-x:auto;line-height:normal;font-family:Menlo,'DejaVu Sans Mono',consolas,'Courier New',monospace\"><span style=\"font-weight: bold\">Model: \"sequential_1\"</span>\n",
              "</pre>\n"
            ]
          },
          "metadata": {}
        },
        {
          "output_type": "display_data",
          "data": {
            "text/plain": [
              "┏━━━━━━━━━━━━━━━━━━━━━━━━━━━━━━━━━━━━━━┳━━━━━━━━━━━━━━━━━━━━━━━━━━━━━┳━━━━━━━━━━━━━━━━━┓\n",
              "┃\u001b[1m \u001b[0m\u001b[1mLayer (type)                        \u001b[0m\u001b[1m \u001b[0m┃\u001b[1m \u001b[0m\u001b[1mOutput Shape               \u001b[0m\u001b[1m \u001b[0m┃\u001b[1m \u001b[0m\u001b[1m        Param #\u001b[0m\u001b[1m \u001b[0m┃\n",
              "┡━━━━━━━━━━━━━━━━━━━━━━━━━━━━━━━━━━━━━━╇━━━━━━━━━━━━━━━━━━━━━━━━━━━━━╇━━━━━━━━━━━━━━━━━┩\n",
              "│ embedding_1 (\u001b[38;5;33mEmbedding\u001b[0m)              │ (\u001b[38;5;34m32\u001b[0m, \u001b[38;5;34m256\u001b[0m, \u001b[38;5;34m16\u001b[0m)               │         \u001b[38;5;34m160,000\u001b[0m │\n",
              "├──────────────────────────────────────┼─────────────────────────────┼─────────────────┤\n",
              "│ global_average_pooling1d_1           │ (\u001b[38;5;34m32\u001b[0m, \u001b[38;5;34m16\u001b[0m)                    │               \u001b[38;5;34m0\u001b[0m │\n",
              "│ (\u001b[38;5;33mGlobalAveragePooling1D\u001b[0m)             │                             │                 │\n",
              "├──────────────────────────────────────┼─────────────────────────────┼─────────────────┤\n",
              "│ dense_3 (\u001b[38;5;33mDense\u001b[0m)                      │ (\u001b[38;5;34m32\u001b[0m, \u001b[38;5;34m16\u001b[0m)                    │             \u001b[38;5;34m272\u001b[0m │\n",
              "├──────────────────────────────────────┼─────────────────────────────┼─────────────────┤\n",
              "│ dense_4 (\u001b[38;5;33mDense\u001b[0m)                      │ (\u001b[38;5;34m32\u001b[0m, \u001b[38;5;34m64\u001b[0m)                    │           \u001b[38;5;34m1,088\u001b[0m │\n",
              "├──────────────────────────────────────┼─────────────────────────────┼─────────────────┤\n",
              "│ dense_5 (\u001b[38;5;33mDense\u001b[0m)                      │ (\u001b[38;5;34m32\u001b[0m, \u001b[38;5;34m1\u001b[0m)                     │              \u001b[38;5;34m65\u001b[0m │\n",
              "└──────────────────────────────────────┴─────────────────────────────┴─────────────────┘\n"
            ],
            "text/html": [
              "<pre style=\"white-space:pre;overflow-x:auto;line-height:normal;font-family:Menlo,'DejaVu Sans Mono',consolas,'Courier New',monospace\">┏━━━━━━━━━━━━━━━━━━━━━━━━━━━━━━━━━━━━━━┳━━━━━━━━━━━━━━━━━━━━━━━━━━━━━┳━━━━━━━━━━━━━━━━━┓\n",
              "┃<span style=\"font-weight: bold\"> Layer (type)                         </span>┃<span style=\"font-weight: bold\"> Output Shape                </span>┃<span style=\"font-weight: bold\">         Param # </span>┃\n",
              "┡━━━━━━━━━━━━━━━━━━━━━━━━━━━━━━━━━━━━━━╇━━━━━━━━━━━━━━━━━━━━━━━━━━━━━╇━━━━━━━━━━━━━━━━━┩\n",
              "│ embedding_1 (<span style=\"color: #0087ff; text-decoration-color: #0087ff\">Embedding</span>)              │ (<span style=\"color: #00af00; text-decoration-color: #00af00\">32</span>, <span style=\"color: #00af00; text-decoration-color: #00af00\">256</span>, <span style=\"color: #00af00; text-decoration-color: #00af00\">16</span>)               │         <span style=\"color: #00af00; text-decoration-color: #00af00\">160,000</span> │\n",
              "├──────────────────────────────────────┼─────────────────────────────┼─────────────────┤\n",
              "│ global_average_pooling1d_1           │ (<span style=\"color: #00af00; text-decoration-color: #00af00\">32</span>, <span style=\"color: #00af00; text-decoration-color: #00af00\">16</span>)                    │               <span style=\"color: #00af00; text-decoration-color: #00af00\">0</span> │\n",
              "│ (<span style=\"color: #0087ff; text-decoration-color: #0087ff\">GlobalAveragePooling1D</span>)             │                             │                 │\n",
              "├──────────────────────────────────────┼─────────────────────────────┼─────────────────┤\n",
              "│ dense_3 (<span style=\"color: #0087ff; text-decoration-color: #0087ff\">Dense</span>)                      │ (<span style=\"color: #00af00; text-decoration-color: #00af00\">32</span>, <span style=\"color: #00af00; text-decoration-color: #00af00\">16</span>)                    │             <span style=\"color: #00af00; text-decoration-color: #00af00\">272</span> │\n",
              "├──────────────────────────────────────┼─────────────────────────────┼─────────────────┤\n",
              "│ dense_4 (<span style=\"color: #0087ff; text-decoration-color: #0087ff\">Dense</span>)                      │ (<span style=\"color: #00af00; text-decoration-color: #00af00\">32</span>, <span style=\"color: #00af00; text-decoration-color: #00af00\">64</span>)                    │           <span style=\"color: #00af00; text-decoration-color: #00af00\">1,088</span> │\n",
              "├──────────────────────────────────────┼─────────────────────────────┼─────────────────┤\n",
              "│ dense_5 (<span style=\"color: #0087ff; text-decoration-color: #0087ff\">Dense</span>)                      │ (<span style=\"color: #00af00; text-decoration-color: #00af00\">32</span>, <span style=\"color: #00af00; text-decoration-color: #00af00\">1</span>)                     │              <span style=\"color: #00af00; text-decoration-color: #00af00\">65</span> │\n",
              "└──────────────────────────────────────┴─────────────────────────────┴─────────────────┘\n",
              "</pre>\n"
            ]
          },
          "metadata": {}
        },
        {
          "output_type": "display_data",
          "data": {
            "text/plain": [
              "\u001b[1m Total params: \u001b[0m\u001b[38;5;34m484,277\u001b[0m (1.85 MB)\n"
            ],
            "text/html": [
              "<pre style=\"white-space:pre;overflow-x:auto;line-height:normal;font-family:Menlo,'DejaVu Sans Mono',consolas,'Courier New',monospace\"><span style=\"font-weight: bold\"> Total params: </span><span style=\"color: #00af00; text-decoration-color: #00af00\">484,277</span> (1.85 MB)\n",
              "</pre>\n"
            ]
          },
          "metadata": {}
        },
        {
          "output_type": "display_data",
          "data": {
            "text/plain": [
              "\u001b[1m Trainable params: \u001b[0m\u001b[38;5;34m161,425\u001b[0m (630.57 KB)\n"
            ],
            "text/html": [
              "<pre style=\"white-space:pre;overflow-x:auto;line-height:normal;font-family:Menlo,'DejaVu Sans Mono',consolas,'Courier New',monospace\"><span style=\"font-weight: bold\"> Trainable params: </span><span style=\"color: #00af00; text-decoration-color: #00af00\">161,425</span> (630.57 KB)\n",
              "</pre>\n"
            ]
          },
          "metadata": {}
        },
        {
          "output_type": "display_data",
          "data": {
            "text/plain": [
              "\u001b[1m Non-trainable params: \u001b[0m\u001b[38;5;34m0\u001b[0m (0.00 B)\n"
            ],
            "text/html": [
              "<pre style=\"white-space:pre;overflow-x:auto;line-height:normal;font-family:Menlo,'DejaVu Sans Mono',consolas,'Courier New',monospace\"><span style=\"font-weight: bold\"> Non-trainable params: </span><span style=\"color: #00af00; text-decoration-color: #00af00\">0</span> (0.00 B)\n",
              "</pre>\n"
            ]
          },
          "metadata": {}
        },
        {
          "output_type": "display_data",
          "data": {
            "text/plain": [
              "\u001b[1m Optimizer params: \u001b[0m\u001b[38;5;34m322,852\u001b[0m (1.23 MB)\n"
            ],
            "text/html": [
              "<pre style=\"white-space:pre;overflow-x:auto;line-height:normal;font-family:Menlo,'DejaVu Sans Mono',consolas,'Courier New',monospace\"><span style=\"font-weight: bold\"> Optimizer params: </span><span style=\"color: #00af00; text-decoration-color: #00af00\">322,852</span> (1.23 MB)\n",
              "</pre>\n"
            ]
          },
          "metadata": {}
        }
      ]
    },
    {
      "cell_type": "code",
      "source": [
        "# prompt: show me embeddings output only from the embedding layer\n",
        "\n",
        "import keras\n",
        "import tensorflow as tf\n",
        "from sklearn.metrics import accuracy_score\n",
        "\n",
        "# ... (previous code)\n",
        "\n",
        "# Create a model with an Embedding layer only\n",
        "embedding_model = keras.Sequential([\n",
        "    keras.layers.Embedding(10000, 16, input_length=256)\n",
        "])\n",
        "\n",
        "# Get embeddings for the first 10 training samples\n",
        "embeddings = embedding_model.predict(xtrain_mod[0])\n",
        "\n",
        "# Print the shape of the embeddings\n",
        "print(embeddings.shape)  # Output: (10, 256, 16)\n",
        "\n",
        "# Print the embeddings\n",
        "embeddings"
      ],
      "metadata": {
        "colab": {
          "base_uri": "https://localhost:8080/"
        },
        "id": "t0WElGAQrdS_",
        "outputId": "461ac199-8078-44e3-a1ec-be2c28663619"
      },
      "execution_count": 68,
      "outputs": [
        {
          "output_type": "stream",
          "name": "stdout",
          "text": [
            "\u001b[1m8/8\u001b[0m \u001b[32m━━━━━━━━━━━━━━━━━━━━\u001b[0m\u001b[37m\u001b[0m \u001b[1m0s\u001b[0m 4ms/step  \n",
            "(256, 16)\n"
          ]
        },
        {
          "output_type": "execute_result",
          "data": {
            "text/plain": [
              "array([[ 0.03254584, -0.01792034, -0.01403843, ..., -0.00190083,\n",
              "         0.04917282, -0.00027258],\n",
              "       [ 0.00104338,  0.00298631, -0.03850436, ...,  0.04154761,\n",
              "        -0.02654532, -0.02778319],\n",
              "       [ 0.03316205, -0.04505043, -0.02627409, ...,  0.00501615,\n",
              "        -0.0065891 ,  0.04997346],\n",
              "       ...,\n",
              "       [-0.03177152, -0.04207711, -0.03093932, ...,  0.027834  ,\n",
              "        -0.03420709,  0.01806008],\n",
              "       [-0.03177152, -0.04207711, -0.03093932, ...,  0.027834  ,\n",
              "        -0.03420709,  0.01806008],\n",
              "       [-0.03177152, -0.04207711, -0.03093932, ...,  0.027834  ,\n",
              "        -0.03420709,  0.01806008]], dtype=float32)"
            ]
          },
          "metadata": {},
          "execution_count": 68
        }
      ]
    },
    {
      "cell_type": "code",
      "source": [],
      "metadata": {
        "id": "QuhwTYJ8r2e7"
      },
      "execution_count": null,
      "outputs": []
    }
  ]
}